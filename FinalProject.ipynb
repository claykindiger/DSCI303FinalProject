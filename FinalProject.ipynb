{
 "cells": [
  {
   "cell_type": "markdown",
   "id": "3df0b761-eba7-4f9c-b95c-797de01bfcc7",
   "metadata": {},
   "source": [
    "# Final Project\n",
    "Clay Kindiger and Haoyang Pang"
   ]
  },
  {
   "cell_type": "markdown",
   "id": "07fb9c38-a330-4377-a5ac-8866c9de0439",
   "metadata": {},
   "source": [
    "## Load Libraries"
   ]
  },
  {
   "cell_type": "code",
   "execution_count": 40,
   "id": "cf24412c-497f-4ddf-af22-38007e1e0ee8",
   "metadata": {
    "tags": []
   },
   "outputs": [],
   "source": [
    "import pandas as pd\n",
    "import numpy as np\n",
    "import seaborn as sns\n",
    "import matplotlib.pyplot as plt\n",
    "import math\n",
    "from sklearn.ensemble import RandomForestClassifier, RandomForestRegressor\n",
    "from sklearn.model_selection import train_test_split\n",
    "from sklearn.linear_model import LogisticRegression\n",
    "from sklearn.metrics import accuracy_score,confusion_matrix,f1_score,mean_squared_error, mean_absolute_error, r2_score"
   ]
  },
  {
   "cell_type": "markdown",
   "id": "bda7b849-c449-4116-a413-98c3a2c70661",
   "metadata": {
    "jp-MarkdownHeadingCollapsed": true,
    "tags": []
   },
   "source": [
    "## Load Original Data"
   ]
  },
  {
   "cell_type": "code",
   "execution_count": null,
   "id": "8c251744-684a-4bfb-a791-1a35245115b0",
   "metadata": {
    "tags": []
   },
   "outputs": [],
   "source": [
    "players_team = pd.read_csv('full_player_stats.csv')\n",
    "advanced_stats = pd.read_csv('data/advanced_players.csv')\n",
    "mvp_voting = pd.read_csv('data/mvp_voting_shares.csv')\n",
    "dpoy_voting = pd.read_csv('data/dpoy_voting.csv')"
   ]
  },
  {
   "cell_type": "code",
   "execution_count": null,
   "id": "28ccd321-897a-4b12-8048-e49ed07aa176",
   "metadata": {
    "tags": []
   },
   "outputs": [],
   "source": [
    "players_team.head()"
   ]
  },
  {
   "cell_type": "code",
   "execution_count": null,
   "id": "439f61d3-2776-479f-aaf2-0649c1d2dbed",
   "metadata": {
    "tags": []
   },
   "outputs": [],
   "source": [
    "advanced_stats.head()"
   ]
  },
  {
   "cell_type": "code",
   "execution_count": null,
   "id": "d1cb6384-9623-413c-9e76-5a4f38db99cb",
   "metadata": {
    "tags": []
   },
   "outputs": [],
   "source": [
    "mvp_voting.head()"
   ]
  },
  {
   "cell_type": "code",
   "execution_count": null,
   "id": "6f20e6e0-ffd5-4066-baaf-4ed791871188",
   "metadata": {
    "tags": []
   },
   "outputs": [],
   "source": [
    "dpoy_voting.head()"
   ]
  },
  {
   "cell_type": "markdown",
   "id": "a6cebc44-3611-42a7-b657-8a43f56383bc",
   "metadata": {
    "jp-MarkdownHeadingCollapsed": true,
    "tags": []
   },
   "source": [
    "## Clean Data"
   ]
  },
  {
   "cell_type": "code",
   "execution_count": null,
   "id": "112c903d-7f82-4314-9bf3-6a10ef344f04",
   "metadata": {
    "tags": []
   },
   "outputs": [],
   "source": [
    "players_team.drop(columns = ['mvp','dpoy'],inplace = True)"
   ]
  },
  {
   "cell_type": "code",
   "execution_count": null,
   "id": "73e80349-0332-42f2-8f15-29e29029610a",
   "metadata": {
    "tags": []
   },
   "outputs": [],
   "source": [
    "season = []\n",
    "start = 2023\n",
    "for idx,row in dpoy_voting.iterrows():\n",
    "    if row['Rank'] == '1':\n",
    "        start -= 1\n",
    "    \n",
    "    season.append(start)\n",
    "dpoy_voting['Season'] = season"
   ]
  },
  {
   "cell_type": "code",
   "execution_count": null,
   "id": "d555803a-bbdd-4c6c-a2af-b25b88a73a38",
   "metadata": {
    "tags": []
   },
   "outputs": [],
   "source": [
    "dpoy_voting = dpoy_voting[['Season', 'Player',  'Pts Won', 'Pts Max', 'Share']]\n",
    "dpoy_voting.head()"
   ]
  },
  {
   "cell_type": "code",
   "execution_count": null,
   "id": "63384ef3-e7d4-4468-8a83-4be4420328ef",
   "metadata": {
    "tags": []
   },
   "outputs": [],
   "source": [
    "advanced_stats = advanced_stats[advanced_stats['Player'] != 'Player']"
   ]
  },
  {
   "cell_type": "code",
   "execution_count": null,
   "id": "37ed52cb-c03a-4cad-b6c3-2154d16f2a5e",
   "metadata": {
    "tags": []
   },
   "outputs": [],
   "source": [
    "players_teams = {}\n",
    "for ply,group in advanced_stats.groupby(['Player','Season']):\n",
    "    if group.shape[0] > 1:\n",
    "        tm = list(group.Tm)[-1]\n",
    "        if 28 in group.index:\n",
    "            print(group.Tm)\n",
    "        players_teams[list(group.index)[0]] = tm\n",
    "        if tm == 'TOT':\n",
    "            print(ply)"
   ]
  },
  {
   "cell_type": "code",
   "execution_count": null,
   "id": "49cc69f9-7389-441c-8fe6-bfff6035ce1d",
   "metadata": {
    "tags": []
   },
   "outputs": [],
   "source": [
    "teams_list = []\n",
    "for idx,row in advanced_stats.iterrows():\n",
    "    if idx in players_teams.keys():\n",
    "        tm = players_teams[idx]\n",
    "        teams_list.append(tm)\n",
    "    else:\n",
    "        tm = row['Tm']\n",
    "        if idx == 3613:\n",
    "            tm = 'UTA'\n",
    "        elif idx == 21:\n",
    "            tm = 'MIA'\n",
    "        elif idx == 4189:\n",
    "            tm = 'WAS'\n",
    "        elif idx == 3037:\n",
    "            tm = 'BOS'\n",
    "        elif idx == 11099:\n",
    "            tm = 'CHI'\n",
    "        elif idx == 6128:\n",
    "            tm = 'NJN'\n",
    "        teams_list.append(tm)\n",
    "advanced_stats['Tm'] = teams_list"
   ]
  },
  {
   "cell_type": "code",
   "execution_count": null,
   "id": "3700bbaf-f9a9-47c3-9bd1-5e3a028fbd60",
   "metadata": {
    "tags": []
   },
   "outputs": [],
   "source": [
    "advanced_stats.drop_duplicates(['Player','Season'],keep = 'first',inplace = True)"
   ]
  },
  {
   "cell_type": "code",
   "execution_count": null,
   "id": "8ca28aa1-a524-4c9a-9954-d6805591a176",
   "metadata": {
    "tags": []
   },
   "outputs": [],
   "source": [
    "players_team.shape"
   ]
  },
  {
   "cell_type": "code",
   "execution_count": null,
   "id": "c8cd900e-0693-44fe-bcd5-1d6e59274242",
   "metadata": {
    "tags": []
   },
   "outputs": [],
   "source": [
    "advanced_stats.shape"
   ]
  },
  {
   "cell_type": "code",
   "execution_count": null,
   "id": "5fbaa9fb-04b4-4ecd-a9fe-c8ebcba7b56f",
   "metadata": {
    "tags": []
   },
   "outputs": [],
   "source": [
    "advanced_stats.columns"
   ]
  },
  {
   "cell_type": "code",
   "execution_count": null,
   "id": "bcd0c151-1b55-4f30-854f-55f60144d4d1",
   "metadata": {
    "tags": []
   },
   "outputs": [],
   "source": [
    "players_team.columns"
   ]
  },
  {
   "cell_type": "code",
   "execution_count": null,
   "id": "8e1678c2-793f-4686-b0b3-9cb6b122795c",
   "metadata": {
    "tags": []
   },
   "outputs": [],
   "source": [
    "advanced_stats = advanced_stats[['Season', 'Player', 'Tm', 'PER', 'TS%', '3PAr',\n",
    "       'FTr', 'ORB%', 'DRB%', 'TRB%', 'AST%', 'STL%', 'BLK%', 'TOV%', 'USG%',\n",
    "       'OWS', 'DWS', 'WS', 'WS/48', 'OBPM', 'DBPM', 'BPM', 'VORP']]"
   ]
  },
  {
   "cell_type": "code",
   "execution_count": null,
   "id": "3e1efbe8-ec15-410d-acdd-0c12ebbdbcbb",
   "metadata": {
    "tags": []
   },
   "outputs": [],
   "source": [
    "full_players = players_team.merge(advanced_stats, on = ['Player','Tm','Season'],how = 'inner')\n",
    "full_players.shape"
   ]
  },
  {
   "cell_type": "code",
   "execution_count": null,
   "id": "bfc46e08-062f-49e8-9170-cf20fe4256e8",
   "metadata": {
    "tags": []
   },
   "outputs": [],
   "source": [
    "full_players.head()"
   ]
  },
  {
   "cell_type": "code",
   "execution_count": null,
   "id": "bbbde05c-666d-4854-93d1-32cd1135b814",
   "metadata": {
    "tags": []
   },
   "outputs": [],
   "source": [
    "full_players_mvp = full_players.merge(mvp_voting,on = ['Season','Player'],how = 'left')\n",
    "full_players_mvp.shape"
   ]
  },
  {
   "cell_type": "code",
   "execution_count": null,
   "id": "a32d4e93-997b-4910-9980-faf82338674f",
   "metadata": {
    "tags": []
   },
   "outputs": [],
   "source": [
    "full_players_mvp"
   ]
  },
  {
   "cell_type": "code",
   "execution_count": null,
   "id": "2637d9dd-e534-4b14-8d38-7d0fb138b099",
   "metadata": {
    "tags": []
   },
   "outputs": [],
   "source": [
    "full_players_mvp[~full_players_mvp['Share'].isnull()]"
   ]
  },
  {
   "cell_type": "code",
   "execution_count": null,
   "id": "301c5406-a5b1-4333-a934-26145a5dd6e0",
   "metadata": {
    "tags": []
   },
   "outputs": [],
   "source": [
    "full_players_awards = full_players_mvp.merge(dpoy_voting,on = ['Season','Player'],how = 'left',suffixes = ('_mvp','_dpoy'))\n",
    "full_players_awards.shape"
   ]
  },
  {
   "cell_type": "code",
   "execution_count": null,
   "id": "11a0de3f-fc8b-4886-9924-0a6238c3d377",
   "metadata": {
    "tags": []
   },
   "outputs": [],
   "source": [
    "full_players_awards.fillna(0,inplace = True)"
   ]
  },
  {
   "cell_type": "code",
   "execution_count": null,
   "id": "955c7cb1-66cf-47f3-a045-4b155f640b92",
   "metadata": {
    "tags": []
   },
   "outputs": [],
   "source": [
    "full_players_awards.to_csv('full_players_dataset.csv',index = False)"
   ]
  },
  {
   "cell_type": "code",
   "execution_count": null,
   "id": "983a62b0-6509-4b9d-8464-b27cf0e592d4",
   "metadata": {
    "tags": []
   },
   "outputs": [],
   "source": [
    "full_dataset = pd.read_csv('full_players_dataset.csv')\n",
    "full_dataset.head()"
   ]
  },
  {
   "cell_type": "code",
   "execution_count": null,
   "id": "3ff01109-6ad6-4f99-8988-a20bece06174",
   "metadata": {
    "tags": []
   },
   "outputs": [],
   "source": [
    "full_dataset.columns"
   ]
  },
  {
   "cell_type": "code",
   "execution_count": null,
   "id": "cc26cc50-4dc8-4c98-b083-6f7a56b1eb8c",
   "metadata": {
    "tags": []
   },
   "outputs": [],
   "source": [
    "full_dataset['received_mvp_votes'] = [1 if row['Share_mvp']!=0 else 0 for idx,row in full_dataset.iterrows()]\n",
    "full_dataset['received_dpoy_votes'] = [1 if row['Share_dpoy']!=0 else 0 for idx,row in full_dataset.iterrows()]"
   ]
  },
  {
   "cell_type": "code",
   "execution_count": null,
   "id": "c0bb94c3-85a9-442d-a672-e0b66e5f5c48",
   "metadata": {
    "tags": []
   },
   "outputs": [],
   "source": [
    "cols_to_normalize = ['G','GS','W','L','FG', 'FGA', 'FG%', '3P', '3PA', '3P%', '2P', '2PA', '2P%', 'eFG%', 'FT', 'FTA',\n",
    "       'FT%', 'ORB', 'DRB', 'TRB', 'AST', 'STL', 'BLK', 'TOV', 'PF', 'PTS',\n",
    "       'PER', 'TS%', '3PAr', 'FTr', 'ORB%', 'DRB%', 'TRB%', 'AST%', 'STL%', 'BLK%', 'TOV%', 'USG%']"
   ]
  },
  {
   "cell_type": "code",
   "execution_count": null,
   "id": "a92d5a5e-3330-4dbc-9a6b-db1c7939fc4e",
   "metadata": {
    "tags": []
   },
   "outputs": [],
   "source": [
    "normalized = full_dataset.groupby('Season')[cols_to_normalize].transform(lambda x: (x - x.mean()) / x.std())"
   ]
  },
  {
   "cell_type": "code",
   "execution_count": null,
   "id": "b2063452-b9e1-4b16-ba0f-968f23a34e5a",
   "metadata": {
    "tags": []
   },
   "outputs": [],
   "source": [
    "full_normalized = full_dataset.merge(normalized,right_index = True,left_index=True,suffixes = ('','_normalized'))"
   ]
  },
  {
   "cell_type": "code",
   "execution_count": null,
   "id": "7246476d-b332-4cd3-b7f3-8f9b9a0eca20",
   "metadata": {
    "tags": []
   },
   "outputs": [],
   "source": [
    "full_normalized.head()"
   ]
  },
  {
   "cell_type": "code",
   "execution_count": null,
   "id": "095d700b-edd3-4270-8c34-04a64fa20488",
   "metadata": {
    "tags": []
   },
   "outputs": [],
   "source": [
    "full_normalized.drop(cols_to_normalize,axis = 1,inplace=True)"
   ]
  },
  {
   "cell_type": "code",
   "execution_count": null,
   "id": "d5ae6df7-214f-4920-8068-0d87bb2d8743",
   "metadata": {
    "tags": []
   },
   "outputs": [],
   "source": [
    "full_normalized.head()"
   ]
  },
  {
   "cell_type": "code",
   "execution_count": null,
   "id": "0dc91c97-f5a0-4de9-b702-d1ec9ee16026",
   "metadata": {
    "tags": []
   },
   "outputs": [],
   "source": [
    "full_normalized.to_csv(\"normalized_data.csv\",index=False)"
   ]
  },
  {
   "cell_type": "markdown",
   "id": "20ee6d0b-1cd7-499f-9a58-914da83ab9b5",
   "metadata": {},
   "source": [
    "## Load Cleaned Data"
   ]
  },
  {
   "cell_type": "code",
   "execution_count": 2,
   "id": "d44493e5-bbbd-48b6-bcf8-16ecd2ade01d",
   "metadata": {
    "tags": []
   },
   "outputs": [
    {
     "data": {
      "text/html": [
       "<div>\n",
       "<style scoped>\n",
       "    .dataframe tbody tr th:only-of-type {\n",
       "        vertical-align: middle;\n",
       "    }\n",
       "\n",
       "    .dataframe tbody tr th {\n",
       "        vertical-align: top;\n",
       "    }\n",
       "\n",
       "    .dataframe thead th {\n",
       "        text-align: right;\n",
       "    }\n",
       "</style>\n",
       "<table border=\"1\" class=\"dataframe\">\n",
       "  <thead>\n",
       "    <tr style=\"text-align: right;\">\n",
       "      <th></th>\n",
       "      <th>Season</th>\n",
       "      <th>Player</th>\n",
       "      <th>Pos</th>\n",
       "      <th>Age</th>\n",
       "      <th>Tm</th>\n",
       "      <th>MP</th>\n",
       "      <th>Year</th>\n",
       "      <th>Team</th>\n",
       "      <th>W/L%</th>\n",
       "      <th>GB</th>\n",
       "      <th>...</th>\n",
       "      <th>3PAr_normalized</th>\n",
       "      <th>FTr_normalized</th>\n",
       "      <th>ORB%_normalized</th>\n",
       "      <th>DRB%_normalized</th>\n",
       "      <th>TRB%_normalized</th>\n",
       "      <th>AST%_normalized</th>\n",
       "      <th>STL%_normalized</th>\n",
       "      <th>BLK%_normalized</th>\n",
       "      <th>TOV%_normalized</th>\n",
       "      <th>USG%_normalized</th>\n",
       "    </tr>\n",
       "  </thead>\n",
       "  <tbody>\n",
       "    <tr>\n",
       "      <th>0</th>\n",
       "      <td>1998</td>\n",
       "      <td>Mahmoud Abdul-Rauf</td>\n",
       "      <td>PG</td>\n",
       "      <td>28.0</td>\n",
       "      <td>SAC</td>\n",
       "      <td>530.0</td>\n",
       "      <td>1998</td>\n",
       "      <td>SAC</td>\n",
       "      <td>0.329</td>\n",
       "      <td>34.0</td>\n",
       "      <td>...</td>\n",
       "      <td>-0.223145</td>\n",
       "      <td>-1.479163</td>\n",
       "      <td>-1.061591</td>\n",
       "      <td>-1.082926</td>\n",
       "      <td>-1.256266</td>\n",
       "      <td>0.678781</td>\n",
       "      <td>-0.270151</td>\n",
       "      <td>-0.824493</td>\n",
       "      <td>-1.271023</td>\n",
       "      <td>1.028959</td>\n",
       "    </tr>\n",
       "    <tr>\n",
       "      <th>1</th>\n",
       "      <td>1998</td>\n",
       "      <td>Tariq Abdul-Wahad</td>\n",
       "      <td>SG</td>\n",
       "      <td>23.0</td>\n",
       "      <td>SAC</td>\n",
       "      <td>959.0</td>\n",
       "      <td>1998</td>\n",
       "      <td>SAC</td>\n",
       "      <td>0.329</td>\n",
       "      <td>34.0</td>\n",
       "      <td>...</td>\n",
       "      <td>-0.577654</td>\n",
       "      <td>0.059612</td>\n",
       "      <td>-0.333466</td>\n",
       "      <td>-0.775932</td>\n",
       "      <td>-0.686891</td>\n",
       "      <td>-0.475951</td>\n",
       "      <td>0.010661</td>\n",
       "      <td>-0.352740</td>\n",
       "      <td>-0.260471</td>\n",
       "      <td>0.499256</td>\n",
       "    </tr>\n",
       "    <tr>\n",
       "      <th>2</th>\n",
       "      <td>1998</td>\n",
       "      <td>Terry Dehere</td>\n",
       "      <td>PG</td>\n",
       "      <td>26.0</td>\n",
       "      <td>SAC</td>\n",
       "      <td>1410.0</td>\n",
       "      <td>1998</td>\n",
       "      <td>SAC</td>\n",
       "      <td>0.329</td>\n",
       "      <td>34.0</td>\n",
       "      <td>...</td>\n",
       "      <td>0.817135</td>\n",
       "      <td>-0.627813</td>\n",
       "      <td>-0.984946</td>\n",
       "      <td>-1.050611</td>\n",
       "      <td>-1.195261</td>\n",
       "      <td>0.967465</td>\n",
       "      <td>0.010661</td>\n",
       "      <td>-0.765524</td>\n",
       "      <td>0.118486</td>\n",
       "      <td>-0.118731</td>\n",
       "    </tr>\n",
       "    <tr>\n",
       "      <th>3</th>\n",
       "      <td>1998</td>\n",
       "      <td>Lawrence Funderburke</td>\n",
       "      <td>PF</td>\n",
       "      <td>27.0</td>\n",
       "      <td>SAC</td>\n",
       "      <td>1094.0</td>\n",
       "      <td>1998</td>\n",
       "      <td>SAC</td>\n",
       "      <td>0.329</td>\n",
       "      <td>34.0</td>\n",
       "      <td>...</td>\n",
       "      <td>-0.781061</td>\n",
       "      <td>0.403325</td>\n",
       "      <td>0.241370</td>\n",
       "      <td>0.419729</td>\n",
       "      <td>0.370520</td>\n",
       "      <td>-0.358339</td>\n",
       "      <td>-0.925378</td>\n",
       "      <td>-0.352740</td>\n",
       "      <td>-0.513109</td>\n",
       "      <td>0.358002</td>\n",
       "    </tr>\n",
       "    <tr>\n",
       "      <th>4</th>\n",
       "      <td>1998</td>\n",
       "      <td>Derek Grimm</td>\n",
       "      <td>SF</td>\n",
       "      <td>23.0</td>\n",
       "      <td>SAC</td>\n",
       "      <td>34.0</td>\n",
       "      <td>1998</td>\n",
       "      <td>SAC</td>\n",
       "      <td>0.329</td>\n",
       "      <td>34.0</td>\n",
       "      <td>...</td>\n",
       "      <td>4.094891</td>\n",
       "      <td>-1.034981</td>\n",
       "      <td>-1.291525</td>\n",
       "      <td>-0.000368</td>\n",
       "      <td>-0.727560</td>\n",
       "      <td>-1.427536</td>\n",
       "      <td>2.537968</td>\n",
       "      <td>0.295920</td>\n",
       "      <td>0.188663</td>\n",
       "      <td>0.728794</td>\n",
       "    </tr>\n",
       "  </tbody>\n",
       "</table>\n",
       "<p>5 rows × 69 columns</p>\n",
       "</div>"
      ],
      "text/plain": [
       "   Season                Player Pos   Age   Tm      MP  Year Team   W/L%  \\\n",
       "0    1998    Mahmoud Abdul-Rauf  PG  28.0  SAC   530.0  1998  SAC  0.329   \n",
       "1    1998     Tariq Abdul-Wahad  SG  23.0  SAC   959.0  1998  SAC  0.329   \n",
       "2    1998          Terry Dehere  PG  26.0  SAC  1410.0  1998  SAC  0.329   \n",
       "3    1998  Lawrence Funderburke  PF  27.0  SAC  1094.0  1998  SAC  0.329   \n",
       "4    1998           Derek Grimm  SF  23.0  SAC    34.0  1998  SAC  0.329   \n",
       "\n",
       "     GB  ...  3PAr_normalized  FTr_normalized  ORB%_normalized  \\\n",
       "0  34.0  ...        -0.223145       -1.479163        -1.061591   \n",
       "1  34.0  ...        -0.577654        0.059612        -0.333466   \n",
       "2  34.0  ...         0.817135       -0.627813        -0.984946   \n",
       "3  34.0  ...        -0.781061        0.403325         0.241370   \n",
       "4  34.0  ...         4.094891       -1.034981        -1.291525   \n",
       "\n",
       "   DRB%_normalized  TRB%_normalized  AST%_normalized  STL%_normalized  \\\n",
       "0        -1.082926        -1.256266         0.678781        -0.270151   \n",
       "1        -0.775932        -0.686891        -0.475951         0.010661   \n",
       "2        -1.050611        -1.195261         0.967465         0.010661   \n",
       "3         0.419729         0.370520        -0.358339        -0.925378   \n",
       "4        -0.000368        -0.727560        -1.427536         2.537968   \n",
       "\n",
       "   BLK%_normalized  TOV%_normalized  USG%_normalized  \n",
       "0        -0.824493        -1.271023         1.028959  \n",
       "1        -0.352740        -0.260471         0.499256  \n",
       "2        -0.765524         0.118486        -0.118731  \n",
       "3        -0.352740        -0.513109         0.358002  \n",
       "4         0.295920         0.188663         0.728794  \n",
       "\n",
       "[5 rows x 69 columns]"
      ]
     },
     "execution_count": 2,
     "metadata": {},
     "output_type": "execute_result"
    }
   ],
   "source": [
    "full_dataset = pd.read_csv('normalized_data.csv')\n",
    "full_dataset.head()"
   ]
  },
  {
   "cell_type": "markdown",
   "id": "b19587a3-9c4a-4bd4-ba38-5eb4e54df42c",
   "metadata": {},
   "source": [
    "## Feature Selection"
   ]
  },
  {
   "cell_type": "code",
   "execution_count": null,
   "id": "e0b1a9e0-51f1-43d2-93a8-d2cad955af62",
   "metadata": {
    "tags": []
   },
   "outputs": [],
   "source": [
    "full_dataset.columns"
   ]
  },
  {
   "cell_type": "markdown",
   "id": "e64071c7-0366-46eb-b4d9-b39937c7805b",
   "metadata": {},
   "source": [
    "## Create Models"
   ]
  },
  {
   "cell_type": "code",
   "execution_count": 3,
   "id": "e864f42e-6bd9-4203-8206-f4981dd0965a",
   "metadata": {
    "tags": []
   },
   "outputs": [],
   "source": [
    "mvp_dataset = full_dataset[['Playoffs', 'OWS', 'DWS',\n",
    "       'WS', 'WS/48', 'OBPM', 'DBPM', 'BPM', 'VORP', 'received_mvp_votes',\n",
    "       'G_normalized', 'GS_normalized', 'W_normalized', 'L_normalized',\n",
    "       'FG_normalized', 'FGA_normalized', 'FG%_normalized', '3P_normalized',\n",
    "       '3PA_normalized', '3P%_normalized', '2P_normalized', '2PA_normalized',\n",
    "       '2P%_normalized', 'eFG%_normalized', 'FT_normalized', 'FTA_normalized',\n",
    "       'FT%_normalized', 'ORB_normalized', 'DRB_normalized', 'TRB_normalized',\n",
    "       'AST_normalized', 'STL_normalized', 'BLK_normalized', 'TOV_normalized',\n",
    "       'PF_normalized', 'PTS_normalized', 'PER_normalized', 'TS%_normalized',\n",
    "       '3PAr_normalized', 'FTr_normalized', 'ORB%_normalized',\n",
    "       'DRB%_normalized', 'TRB%_normalized', 'AST%_normalized',\n",
    "       'STL%_normalized', 'BLK%_normalized', 'TOV%_normalized',\n",
    "       'USG%_normalized']]\n",
    "\n",
    "Xm = np.array(mvp_dataset.drop(['received_mvp_votes'],axis=1))\n",
    "ym = np.array(mvp_dataset['received_mvp_votes'])\n",
    "\n",
    "Xm_train, Xm_test, ym_train, ym_test = train_test_split(Xm, ym, test_size=0.1, random_state=42)"
   ]
  },
  {
   "cell_type": "code",
   "execution_count": 4,
   "id": "a43b12ca-be9b-4994-b038-14a49b1f26cc",
   "metadata": {
    "tags": []
   },
   "outputs": [],
   "source": [
    "dpoy_dataset = full_dataset[['Playoffs', 'DWS',\n",
    "       'WS', 'WS/48', 'DBPM', 'VORP', 'received_dpoy_votes',\n",
    "       'G_normalized', 'GS_normalized', 'W_normalized', 'L_normalized',\n",
    "       'ORB_normalized', 'DRB_normalized', 'TRB_normalized',\n",
    "       'STL_normalized', 'BLK_normalized',\n",
    "       'PF_normalized', 'PTS_normalized', 'PER_normalized',\n",
    "       'DRB%_normalized', 'TRB%_normalized',\n",
    "       'STL%_normalized', 'BLK%_normalized']]\n",
    "\n",
    "Xd = np.array(dpoy_dataset.drop(['received_dpoy_votes'],axis=1))\n",
    "yd = np.array(dpoy_dataset['received_dpoy_votes'])\n",
    "\n",
    "Xd_train, Xd_test, yd_train, yd_test = train_test_split(Xd, yd, test_size=0.1, random_state=42)"
   ]
  },
  {
   "cell_type": "markdown",
   "id": "88761e53-6efa-4dfb-8cb6-28f745e63d7f",
   "metadata": {},
   "source": [
    "### Logistic Regression"
   ]
  },
  {
   "cell_type": "markdown",
   "id": "85116ea1-52b2-4691-bc78-65e6b992f9ad",
   "metadata": {},
   "source": [
    "#### MVP"
   ]
  },
  {
   "cell_type": "code",
   "execution_count": 5,
   "id": "af43801f-a8d9-48d6-92c7-d4f9e1dc5cc7",
   "metadata": {
    "tags": []
   },
   "outputs": [],
   "source": [
    "mvp_logreg = LogisticRegression(max_iter=500).fit(Xm_train,ym_train)"
   ]
  },
  {
   "cell_type": "markdown",
   "id": "7eaa0c59-0dee-4b6e-be6f-1a292d0d9568",
   "metadata": {},
   "source": [
    "#### DPOY"
   ]
  },
  {
   "cell_type": "code",
   "execution_count": 6,
   "id": "e27dc053-7c3c-48fc-84ef-bfa5514c3d6c",
   "metadata": {
    "tags": []
   },
   "outputs": [],
   "source": [
    "dpoy_logreg = LogisticRegression(max_iter=500).fit(Xd_train,yd_train)"
   ]
  },
  {
   "cell_type": "markdown",
   "id": "d580ca5b-677e-495d-8c3c-6a29d2f259e4",
   "metadata": {},
   "source": [
    "### Random Forest"
   ]
  },
  {
   "cell_type": "markdown",
   "id": "f1efd6c4-30e1-47fc-986f-3025e66714a7",
   "metadata": {},
   "source": [
    "#### MVP"
   ]
  },
  {
   "cell_type": "code",
   "execution_count": 7,
   "id": "1018910d-41c8-493e-9986-14301aa430ee",
   "metadata": {
    "tags": []
   },
   "outputs": [],
   "source": [
    "mvp_clf = RandomForestClassifier(30, oob_score = True).fit(Xm_train,ym_train)"
   ]
  },
  {
   "cell_type": "markdown",
   "id": "06b8142c-57c8-4904-9a13-41ca8c32e615",
   "metadata": {
    "tags": []
   },
   "source": [
    "#### DPOY"
   ]
  },
  {
   "cell_type": "code",
   "execution_count": 8,
   "id": "7237800e-7904-456d-a887-7e3735822076",
   "metadata": {
    "tags": []
   },
   "outputs": [],
   "source": [
    "dpoy_clf = RandomForestClassifier(30, oob_score = True).fit(Xd_train,yd_train)"
   ]
  },
  {
   "cell_type": "markdown",
   "id": "2bee66ac-db75-4b10-995a-4d2ea95b50cf",
   "metadata": {},
   "source": [
    "### Regression (predict vote share)"
   ]
  },
  {
   "cell_type": "markdown",
   "id": "423400a2-8ea0-402f-8392-f1f556e19885",
   "metadata": {},
   "source": [
    "#### MVP"
   ]
  },
  {
   "cell_type": "code",
   "execution_count": 55,
   "id": "3e24a742-8c76-4030-a689-d1d38898787e",
   "metadata": {
    "tags": []
   },
   "outputs": [],
   "source": [
    "#create the new variable for the regression\n",
    "ym_regr = np.array(full_dataset['Share_mvp'])\n",
    "\n",
    "pred_votes = np.where(mvp_clf.predict(Xm) == 1)\n",
    "\n",
    "Xm_pipe = Xm[pred_votes]\n",
    "ym_pipe = ym_regr[pred_votes]\n",
    "\n",
    "Xm_train_regr, Xm_test_regr, ym_train_regr, ym_test_regr = train_test_split(Xm_pipe, ym_pipe, test_size=0.2, random_state=42)\n",
    "\n",
    "mvp_regr_pipe = RandomForestRegressor(n_estimators=50, oob_score=True).fit(Xm_train_regr, ym_train_regr)\n",
    "\n",
    "mvp_regression_score = mvp_regr_pipe.score(Xm_test_regr, ym_test_regr)"
   ]
  },
  {
   "cell_type": "code",
   "execution_count": 58,
   "id": "aa65edfa-587e-4c19-9e19-a46d8de2946f",
   "metadata": {
    "tags": []
   },
   "outputs": [],
   "source": [
    "#create the new variable for the regression\n",
    "ym_regr = np.array(full_dataset['Share_mvp'])\n",
    "\n",
    "Xm_train_regr, Xm_test_regr, ym_train_regr, ym_test_regr = train_test_split(Xm, ym_regr, test_size=0.2, random_state=42)\n",
    "\n",
    "mvp_regr_full = RandomForestRegressor(n_estimators=50, oob_score=True).fit(Xm_train_regr, ym_train_regr)\n",
    "\n",
    "mvp_regression_score = mvp_regr_full.score(Xm_test_regr, ym_test_regr)"
   ]
  },
  {
   "cell_type": "markdown",
   "id": "edff4844-9f8d-4d31-99ae-81a7090ca90c",
   "metadata": {},
   "source": [
    "#### DPOY"
   ]
  },
  {
   "cell_type": "code",
   "execution_count": null,
   "id": "80c6444c-0a10-4faa-8848-c068a6bc67a9",
   "metadata": {},
   "outputs": [],
   "source": [
    "#create the new variable for the regression\n",
    "yd_regr = np.array(full_dataset['Share_dpoy'])\n",
    "\n",
    "pred_votes = np.where(dpoy_clf.predict(Xm) == 1)\n",
    "\n",
    "Xd_pipe = Xd[pred_votes]\n",
    "yd_pipe = yd_regr[pred_votes]\n",
    "\n",
    "Xd_train_regr, Xd_test_regr, yd_train_regr, yd_test_regr = train_test_split(Xd_pipe, yd_pipe, test_size=0.2, random_state=42)\n",
    "\n",
    "dpoy_regr = RandomForestRegressor(n_estimators=50, oob_score=True).fit(Xd_train_regr, yd_train_regr)\n",
    "\n",
    "dpoy_regression_score = dpoy_regr.score(Xd_test_regr, yd_test_regr)"
   ]
  },
  {
   "cell_type": "code",
   "execution_count": 52,
   "id": "b52b2fba-2b24-445e-bac7-54ed5451709b",
   "metadata": {
    "tags": []
   },
   "outputs": [],
   "source": [
    "#create the new variable for the regression\n",
    "yd_regr = np.array(full_dataset['Share_dpoy'])\n",
    "\n",
    "Xd_train_regr, Xd_test_regr, yd_train_regr, yd_test_regr = train_test_split(Xd, yd_regr, test_size=0.2, random_state=42)\n",
    "\n",
    "dpoy_regr = RandomForestRegressor(n_estimators=50, oob_score=True).fit(Xd_train_regr, yd_train_regr)\n",
    "\n",
    "dpoy_regression_score = dpoy_regr.score(Xd_test_regr, yd_test_regr)"
   ]
  },
  {
   "cell_type": "markdown",
   "id": "4c19b966-79d9-49a4-b295-46ee4e35cdf1",
   "metadata": {},
   "source": [
    "## Evaluate Models"
   ]
  },
  {
   "cell_type": "markdown",
   "id": "2f0e6a47-a469-4c71-9c43-2131681955f2",
   "metadata": {},
   "source": [
    "### Logistic Regression"
   ]
  },
  {
   "cell_type": "markdown",
   "id": "ea082327-2e12-44bd-a9a9-4678ccf18158",
   "metadata": {
    "tags": []
   },
   "source": [
    "#### MVP"
   ]
  },
  {
   "cell_type": "code",
   "execution_count": null,
   "id": "c565e025-a33b-43f4-991b-0462ae33e244",
   "metadata": {
    "tags": []
   },
   "outputs": [],
   "source": [
    "acc_mvp = accuracy_score(ym_test,mvp_logreg.predict(Xm_test))\n",
    "print(f'The accuracy score was: {acc_mvp}')\n",
    "print(confusion_matrix(ym_test,mvp_logreg.predict(Xm_test)))\n",
    "print(f'F1 score = {f1_score(ym_test,mvp_logreg.predict(Xm_test))}')"
   ]
  },
  {
   "cell_type": "markdown",
   "id": "f6bd97ce-1f21-443b-8170-3fbbeaf16dc3",
   "metadata": {
    "tags": []
   },
   "source": [
    "#### DPOY"
   ]
  },
  {
   "cell_type": "code",
   "execution_count": null,
   "id": "e9222f16-fae2-419b-9e32-a697e3238d6f",
   "metadata": {
    "tags": []
   },
   "outputs": [],
   "source": [
    "acc_dpoy = accuracy_score(yd_test,dpoy_logreg.predict(Xd_test))\n",
    "print(f'The accuracy score was: {acc_dpoy}')\n",
    "print(confusion_matrix(yd_test,dpoy_logreg.predict(Xd_test)))\n",
    "print(f'F1 score = {f1_score(yd_test,dpoy_logreg.predict(Xd_test))}')"
   ]
  },
  {
   "cell_type": "markdown",
   "id": "a891133d-f92d-48ec-9bbd-450e36b5b303",
   "metadata": {},
   "source": [
    "### Random Forest"
   ]
  },
  {
   "cell_type": "markdown",
   "id": "ac442251-2d6f-4b87-a753-30ff80c2eae1",
   "metadata": {
    "tags": []
   },
   "source": [
    "#### MVP"
   ]
  },
  {
   "cell_type": "code",
   "execution_count": null,
   "id": "bcc1c471-f4be-4309-9d58-efe4e82be0b5",
   "metadata": {
    "tags": []
   },
   "outputs": [],
   "source": [
    "print(f'The training accuracy: {mvp_clf.score(Xm_train,ym_train)}')\n",
    "print(f'The out of bag classification accuracy: {mvp_clf.oob_score_}')"
   ]
  },
  {
   "cell_type": "code",
   "execution_count": null,
   "id": "8edae0b8-c50f-4c44-9fff-ce0a0fa0aa79",
   "metadata": {
    "tags": []
   },
   "outputs": [],
   "source": [
    "mvp_clf.score(Xm_test,ym_test)"
   ]
  },
  {
   "cell_type": "code",
   "execution_count": null,
   "id": "a39647b9-cabe-4364-8cac-d72f220edf76",
   "metadata": {
    "tags": []
   },
   "outputs": [],
   "source": [
    "for i in range(20,100,5):\n",
    "    mvp_clf = RandomForestClassifier(i, oob_score = True).fit(Xm_train,ym_train)\n",
    "    print(f'Test Accuracy with {i} trees = {mvp_clf.score(Xm_test,ym_test)}')"
   ]
  },
  {
   "cell_type": "code",
   "execution_count": null,
   "id": "44fe8d2a-1ed7-4b8a-9cfd-780c8f197d14",
   "metadata": {
    "scrolled": true,
    "tags": []
   },
   "outputs": [],
   "source": [
    "i = 0\n",
    "feat_imp = {}\n",
    "cols = list(mvp_dataset.columns)\n",
    "for val in mvp_clf.feature_importances_:\n",
    "    if cols[i] == 'received_mvp_votes':\n",
    "        i += 1\n",
    "        pass\n",
    "    feat_imp[cols[i]] = val\n",
    "    print(f'The imporance of {cols[i]} = {val}')\n",
    "    i += 1"
   ]
  },
  {
   "cell_type": "markdown",
   "id": "05f54436-9eb7-48fb-9aa5-143a4344a758",
   "metadata": {
    "tags": []
   },
   "source": [
    "#### DPOY"
   ]
  },
  {
   "cell_type": "code",
   "execution_count": null,
   "id": "e81386aa-c8e5-4ee8-a1d6-09d14dd8c659",
   "metadata": {
    "tags": []
   },
   "outputs": [],
   "source": [
    "print(f'The training accuracy: {dpoy_clf.score(Xd_train,yd_train)}')\n",
    "print(f'The out of bag classification accuracy: {dpoy_clf.oob_score_}')"
   ]
  },
  {
   "cell_type": "code",
   "execution_count": null,
   "id": "4731d1e3-4c7b-4fee-8783-dde42c0922b2",
   "metadata": {
    "tags": []
   },
   "outputs": [],
   "source": [
    "dpoy_clf.score(Xd_test,yd_test)"
   ]
  },
  {
   "cell_type": "code",
   "execution_count": null,
   "id": "5ec1a9e9-4289-4171-a940-4a186b78312b",
   "metadata": {
    "tags": []
   },
   "outputs": [],
   "source": [
    "dpoy_clf.feature_importances_"
   ]
  },
  {
   "cell_type": "code",
   "execution_count": null,
   "id": "5679fb33-0ac9-4064-babe-f82eb5f753f0",
   "metadata": {
    "tags": []
   },
   "outputs": [],
   "source": [
    "for i in range(20,100,5):\n",
    "    dpoy_clf = RandomForestClassifier(i, oob_score = True).fit(Xd_train,yd_train)\n",
    "    print(f'Test Accuracy with {i} trees = {dpoy_clf.score(Xd_test,yd_test)}')"
   ]
  },
  {
   "cell_type": "code",
   "execution_count": null,
   "id": "ab47a779-100e-4081-a5dc-f819093c2c74",
   "metadata": {
    "tags": []
   },
   "outputs": [],
   "source": [
    "i = 0\n",
    "cols = list(dpoy_dataset.columns)\n",
    "for val in dpoy_clf.feature_importances_:\n",
    "    if cols[i] == 'received_dpoy_votes':\n",
    "        i += 1\n",
    "        pass\n",
    "    print(f'The imporance of {cols[i]} = {val}')\n",
    "    i += 1"
   ]
  },
  {
   "cell_type": "markdown",
   "id": "4b19d6a5-b1ce-4374-abc3-364083e41db4",
   "metadata": {},
   "source": [
    "### Regression (voting share)"
   ]
  },
  {
   "cell_type": "markdown",
   "id": "d98399ec-60c0-4397-b3ed-3ff737e4d8b6",
   "metadata": {},
   "source": [
    "#### MVP"
   ]
  },
  {
   "cell_type": "code",
   "execution_count": 56,
   "id": "10c7ecde-3bc9-4d29-83a9-78fd5fc5eba5",
   "metadata": {
    "tags": []
   },
   "outputs": [
    {
     "name": "stdout",
     "output_type": "stream",
     "text": [
      "Mean Squared Error (MSE) for Regression: 0.03539832014444444\n",
      "Mean Absolute Error (MAE) for Regression: 0.1360872222222222\n",
      "R² Score for Regression: 0.4325309197501487\n"
     ]
    }
   ],
   "source": [
    "# Predictions for regression\n",
    "ym_pred_regr = mvp_regr_pipe.predict(Xm_test_regr)\n",
    "\n",
    "# Regression metrics\n",
    "mse_mvp_regr = mean_squared_error(ym_test_regr, ym_pred_regr)\n",
    "mae_mvp_regr = mean_absolute_error(ym_test_regr, ym_pred_regr)\n",
    "r2_mvp_regr = r2_score(ym_test_regr, ym_pred_regr)\n",
    "\n",
    "print(\"Mean Squared Error (MSE) for Regression:\", mse_mvp_regr)\n",
    "print(\"Mean Absolute Error (MAE) for Regression:\", mae_mvp_regr)\n",
    "print(\"R² Score for Regression:\", r2_mvp_regr)"
   ]
  },
  {
   "cell_type": "code",
   "execution_count": 59,
   "id": "30235eca-3a9b-45d5-b6e3-bc9a9af29218",
   "metadata": {},
   "outputs": [
    {
     "name": "stdout",
     "output_type": "stream",
     "text": [
      "Mean Squared Error (MSE) for Regression: 0.001308327486340641\n",
      "Mean Absolute Error (MAE) for Regression: 0.004158043844856661\n",
      "R² Score for Regression: 0.4572886016136759\n"
     ]
    }
   ],
   "source": [
    "# Predictions for regression\n",
    "ym_pred_regr = mvp_regr_full.predict(Xm_test_regr)\n",
    "\n",
    "# Regression metrics\n",
    "mse_mvp_regr = mean_squared_error(ym_test_regr, ym_pred_regr)\n",
    "mae_mvp_regr = mean_absolute_error(ym_test_regr, ym_pred_regr)\n",
    "r2_mvp_regr = r2_score(ym_test_regr, ym_pred_regr)\n",
    "\n",
    "print(\"Mean Squared Error (MSE) for Regression:\", mse_mvp_regr)\n",
    "print(\"Mean Absolute Error (MAE) for Regression:\", mae_mvp_regr)\n",
    "print(\"R² Score for Regression:\", r2_mvp_regr)"
   ]
  },
  {
   "cell_type": "code",
   "execution_count": 43,
   "id": "83bb17ee-6027-4142-9f07-10a5483e13f6",
   "metadata": {
    "tags": []
   },
   "outputs": [
    {
     "name": "stdout",
     "output_type": "stream",
     "text": [
      "R² Score with 20 trees = 0.4427807999657215\n",
      "R² Score with 25 trees = 0.42830128631142494\n",
      "R² Score with 30 trees = 0.40047591518849923\n",
      "R² Score with 35 trees = 0.4515963008382411\n",
      "R² Score with 40 trees = 0.42437504889071953\n",
      "R² Score with 45 trees = 0.4227677215110299\n",
      "R² Score with 50 trees = 0.45331102142899105\n",
      "R² Score with 55 trees = 0.4995465757251851\n",
      "R² Score with 60 trees = 0.43857246465531885\n",
      "R² Score with 65 trees = 0.4494617795147118\n",
      "R² Score with 70 trees = 0.4809882462098565\n",
      "R² Score with 75 trees = 0.47120828867960374\n",
      "R² Score with 80 trees = 0.38335753763203095\n",
      "R² Score with 85 trees = 0.47461713853353715\n",
      "R² Score with 90 trees = 0.4739213867139478\n",
      "R² Score with 95 trees = 0.4621364967609739\n"
     ]
    }
   ],
   "source": [
    "for i in range(20,100,5):\n",
    "    mvp_regr = RandomForestRegressor(i, oob_score = True).fit(Xm_train_regr,ym_train_regr)\n",
    "    print(f'R² Score with {i} trees = {mvp_regr.score(Xm_test_regr,ym_test_regr)}')"
   ]
  },
  {
   "cell_type": "markdown",
   "id": "124a791e-de25-470d-94f2-fa3441254ce2",
   "metadata": {},
   "source": [
    "#### DPOY"
   ]
  },
  {
   "cell_type": "code",
   "execution_count": 53,
   "id": "756fba3f-9017-467d-b805-f63a3b7d8f6b",
   "metadata": {
    "tags": []
   },
   "outputs": [
    {
     "name": "stdout",
     "output_type": "stream",
     "text": [
      "Mean Squared Error (MSE) for Regression: 0.00098907938381113\n",
      "Mean Absolute Error (MAE) for Regression: 0.0035267453625632376\n",
      "R² Score for Regression: 0.2973082652866236\n"
     ]
    }
   ],
   "source": [
    "# Predictions for regression\n",
    "yd_pred_regr = dpoy_regr.predict(Xd_test_regr)\n",
    "\n",
    "# Regression metrics\n",
    "mse_dpoy_regr = mean_squared_error(yd_test_regr, yd_pred_regr)\n",
    "mae_dpoy_regr = mean_absolute_error(yd_test_regr, yd_pred_regr)\n",
    "r2_dpoy_regr = r2_score(yd_test_regr, yd_pred_regr)\n",
    "\n",
    "print(\"Mean Squared Error (MSE) for Regression:\", mse_dpoy_regr)\n",
    "print(\"Mean Absolute Error (MAE) for Regression:\", mae_dpoy_regr)\n",
    "print(\"R² Score for Regression:\", r2_dpoy_regr)"
   ]
  },
  {
   "cell_type": "code",
   "execution_count": 54,
   "id": "3e64f721-c406-4bdd-8eb7-6f8632f0ead4",
   "metadata": {
    "tags": []
   },
   "outputs": [
    {
     "name": "stdout",
     "output_type": "stream",
     "text": [
      "R² Score with 20 trees = 0.3754818185444495\n",
      "R² Score with 25 trees = 0.22309048633244755\n",
      "R² Score with 30 trees = 0.2981880563880748\n",
      "R² Score with 35 trees = 0.27673014136189455\n",
      "R² Score with 40 trees = 0.3237310780658885\n",
      "R² Score with 45 trees = 0.3050185940455301\n",
      "R² Score with 50 trees = 0.36290698077349237\n",
      "R² Score with 55 trees = 0.3583953062936369\n",
      "R² Score with 60 trees = 0.3259605291391725\n",
      "R² Score with 65 trees = 0.2918322640585421\n",
      "R² Score with 70 trees = 0.3218805385221173\n",
      "R² Score with 75 trees = 0.32218313790438546\n",
      "R² Score with 80 trees = 0.32484818860749864\n",
      "R² Score with 85 trees = 0.2947793135141977\n",
      "R² Score with 90 trees = 0.3104740504564768\n",
      "R² Score with 95 trees = 0.29379707650842946\n"
     ]
    }
   ],
   "source": [
    "for i in range(20,100,5):\n",
    "    dpoy_regr = RandomForestRegressor(i, oob_score = True).fit(Xd_train_regr,yd_train_regr)\n",
    "    print(f'R² Score with {i} trees = {dpoy_regr.score(Xd_test_regr,yd_test_regr)}')"
   ]
  },
  {
   "cell_type": "code",
   "execution_count": null,
   "id": "a33786a8-0ed4-43b1-86f5-ab59abe47a91",
   "metadata": {},
   "outputs": [],
   "source": []
  }
 ],
 "metadata": {
  "kernelspec": {
   "display_name": "Python 3 (ipykernel)",
   "language": "python",
   "name": "python3"
  },
  "language_info": {
   "codemirror_mode": {
    "name": "ipython",
    "version": 3
   },
   "file_extension": ".py",
   "mimetype": "text/x-python",
   "name": "python",
   "nbconvert_exporter": "python",
   "pygments_lexer": "ipython3",
   "version": "3.11.4"
  }
 },
 "nbformat": 4,
 "nbformat_minor": 5
}
