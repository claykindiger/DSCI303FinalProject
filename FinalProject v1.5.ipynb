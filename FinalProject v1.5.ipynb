{
 "cells": [
  {
   "cell_type": "markdown",
   "id": "3df0b761-eba7-4f9c-b95c-797de01bfcc7",
   "metadata": {},
   "source": [
    "# Final Project\n",
    "Clay Kindiger and Haoyang Pang"
   ]
  },
  {
   "cell_type": "markdown",
   "id": "07fb9c38-a330-4377-a5ac-8866c9de0439",
   "metadata": {},
   "source": [
    "## Load Libraries"
   ]
  },
  {
   "cell_type": "code",
   "execution_count": 5,
   "id": "cf24412c-497f-4ddf-af22-38007e1e0ee8",
   "metadata": {
    "tags": []
   },
   "outputs": [],
   "source": [
    "import pandas as pd\n",
    "import numpy as np\n",
    "import seaborn as sns\n",
    "import matplotlib.pyplot as plt\n",
    "import math\n",
    "from sklearn.ensemble import RandomForestClassifier\n",
    "from sklearn.model_selection import train_test_split"
   ]
  },
  {
   "cell_type": "markdown",
   "id": "bda7b849-c449-4116-a413-98c3a2c70661",
   "metadata": {
    "jp-MarkdownHeadingCollapsed": true,
    "tags": []
   },
   "source": [
    "## Load Original Data"
   ]
  },
  {
   "cell_type": "code",
   "execution_count": 6,
   "id": "8c251744-684a-4bfb-a791-1a35245115b0",
   "metadata": {
    "tags": []
   },
   "outputs": [
    {
     "ename": "UnicodeDecodeError",
     "evalue": "'utf-8' codec can't decode byte 0x80 in position 20913: invalid start byte",
     "output_type": "error",
     "traceback": [
      "\u001b[1;31m---------------------------------------------------------------------------\u001b[0m",
      "\u001b[1;31mUnicodeDecodeError\u001b[0m                        Traceback (most recent call last)",
      "\u001b[1;32m~\\AppData\\Local\\Temp\\ipykernel_8220\\2897131331.py\u001b[0m in \u001b[0;36m<module>\u001b[1;34m\u001b[0m\n\u001b[1;32m----> 1\u001b[1;33m \u001b[0mplayers_team\u001b[0m \u001b[1;33m=\u001b[0m \u001b[0mpd\u001b[0m\u001b[1;33m.\u001b[0m\u001b[0mread_csv\u001b[0m\u001b[1;33m(\u001b[0m\u001b[1;34m'full_player_stats.csv'\u001b[0m\u001b[1;33m)\u001b[0m\u001b[1;33m\u001b[0m\u001b[1;33m\u001b[0m\u001b[0m\n\u001b[0m\u001b[0;32m      2\u001b[0m \u001b[0madvanced_stats\u001b[0m \u001b[1;33m=\u001b[0m \u001b[0mpd\u001b[0m\u001b[1;33m.\u001b[0m\u001b[0mread_csv\u001b[0m\u001b[1;33m(\u001b[0m\u001b[1;34m'data/advanced_players.csv'\u001b[0m\u001b[1;33m)\u001b[0m\u001b[1;33m\u001b[0m\u001b[1;33m\u001b[0m\u001b[0m\n\u001b[0;32m      3\u001b[0m \u001b[0mmvp_voting\u001b[0m \u001b[1;33m=\u001b[0m \u001b[0mpd\u001b[0m\u001b[1;33m.\u001b[0m\u001b[0mread_csv\u001b[0m\u001b[1;33m(\u001b[0m\u001b[1;34m'data/mvp_voting_shares.csv'\u001b[0m\u001b[1;33m)\u001b[0m\u001b[1;33m\u001b[0m\u001b[1;33m\u001b[0m\u001b[0m\n\u001b[0;32m      4\u001b[0m \u001b[0mdpoy_voting\u001b[0m \u001b[1;33m=\u001b[0m \u001b[0mpd\u001b[0m\u001b[1;33m.\u001b[0m\u001b[0mread_csv\u001b[0m\u001b[1;33m(\u001b[0m\u001b[1;34m'data/dpoy_voting.csv'\u001b[0m\u001b[1;33m)\u001b[0m\u001b[1;33m\u001b[0m\u001b[1;33m\u001b[0m\u001b[0m\n",
      "\u001b[1;32mD:\\anaconda\\lib\\site-packages\\pandas\\util\\_decorators.py\u001b[0m in \u001b[0;36mwrapper\u001b[1;34m(*args, **kwargs)\u001b[0m\n\u001b[0;32m    309\u001b[0m                     \u001b[0mstacklevel\u001b[0m\u001b[1;33m=\u001b[0m\u001b[0mstacklevel\u001b[0m\u001b[1;33m,\u001b[0m\u001b[1;33m\u001b[0m\u001b[1;33m\u001b[0m\u001b[0m\n\u001b[0;32m    310\u001b[0m                 )\n\u001b[1;32m--> 311\u001b[1;33m             \u001b[1;32mreturn\u001b[0m \u001b[0mfunc\u001b[0m\u001b[1;33m(\u001b[0m\u001b[1;33m*\u001b[0m\u001b[0margs\u001b[0m\u001b[1;33m,\u001b[0m \u001b[1;33m**\u001b[0m\u001b[0mkwargs\u001b[0m\u001b[1;33m)\u001b[0m\u001b[1;33m\u001b[0m\u001b[1;33m\u001b[0m\u001b[0m\n\u001b[0m\u001b[0;32m    312\u001b[0m \u001b[1;33m\u001b[0m\u001b[0m\n\u001b[0;32m    313\u001b[0m         \u001b[1;32mreturn\u001b[0m \u001b[0mwrapper\u001b[0m\u001b[1;33m\u001b[0m\u001b[1;33m\u001b[0m\u001b[0m\n",
      "\u001b[1;32mD:\\anaconda\\lib\\site-packages\\pandas\\io\\parsers\\readers.py\u001b[0m in \u001b[0;36mread_csv\u001b[1;34m(filepath_or_buffer, sep, delimiter, header, names, index_col, usecols, squeeze, prefix, mangle_dupe_cols, dtype, engine, converters, true_values, false_values, skipinitialspace, skiprows, skipfooter, nrows, na_values, keep_default_na, na_filter, verbose, skip_blank_lines, parse_dates, infer_datetime_format, keep_date_col, date_parser, dayfirst, cache_dates, iterator, chunksize, compression, thousands, decimal, lineterminator, quotechar, quoting, doublequote, escapechar, comment, encoding, encoding_errors, dialect, error_bad_lines, warn_bad_lines, on_bad_lines, delim_whitespace, low_memory, memory_map, float_precision, storage_options)\u001b[0m\n\u001b[0;32m    676\u001b[0m     \u001b[0mkwds\u001b[0m\u001b[1;33m.\u001b[0m\u001b[0mupdate\u001b[0m\u001b[1;33m(\u001b[0m\u001b[0mkwds_defaults\u001b[0m\u001b[1;33m)\u001b[0m\u001b[1;33m\u001b[0m\u001b[1;33m\u001b[0m\u001b[0m\n\u001b[0;32m    677\u001b[0m \u001b[1;33m\u001b[0m\u001b[0m\n\u001b[1;32m--> 678\u001b[1;33m     \u001b[1;32mreturn\u001b[0m \u001b[0m_read\u001b[0m\u001b[1;33m(\u001b[0m\u001b[0mfilepath_or_buffer\u001b[0m\u001b[1;33m,\u001b[0m \u001b[0mkwds\u001b[0m\u001b[1;33m)\u001b[0m\u001b[1;33m\u001b[0m\u001b[1;33m\u001b[0m\u001b[0m\n\u001b[0m\u001b[0;32m    679\u001b[0m \u001b[1;33m\u001b[0m\u001b[0m\n\u001b[0;32m    680\u001b[0m \u001b[1;33m\u001b[0m\u001b[0m\n",
      "\u001b[1;32mD:\\anaconda\\lib\\site-packages\\pandas\\io\\parsers\\readers.py\u001b[0m in \u001b[0;36m_read\u001b[1;34m(filepath_or_buffer, kwds)\u001b[0m\n\u001b[0;32m    573\u001b[0m \u001b[1;33m\u001b[0m\u001b[0m\n\u001b[0;32m    574\u001b[0m     \u001b[1;31m# Create the parser.\u001b[0m\u001b[1;33m\u001b[0m\u001b[1;33m\u001b[0m\u001b[0m\n\u001b[1;32m--> 575\u001b[1;33m     \u001b[0mparser\u001b[0m \u001b[1;33m=\u001b[0m \u001b[0mTextFileReader\u001b[0m\u001b[1;33m(\u001b[0m\u001b[0mfilepath_or_buffer\u001b[0m\u001b[1;33m,\u001b[0m \u001b[1;33m**\u001b[0m\u001b[0mkwds\u001b[0m\u001b[1;33m)\u001b[0m\u001b[1;33m\u001b[0m\u001b[1;33m\u001b[0m\u001b[0m\n\u001b[0m\u001b[0;32m    576\u001b[0m \u001b[1;33m\u001b[0m\u001b[0m\n\u001b[0;32m    577\u001b[0m     \u001b[1;32mif\u001b[0m \u001b[0mchunksize\u001b[0m \u001b[1;32mor\u001b[0m \u001b[0miterator\u001b[0m\u001b[1;33m:\u001b[0m\u001b[1;33m\u001b[0m\u001b[1;33m\u001b[0m\u001b[0m\n",
      "\u001b[1;32mD:\\anaconda\\lib\\site-packages\\pandas\\io\\parsers\\readers.py\u001b[0m in \u001b[0;36m__init__\u001b[1;34m(self, f, engine, **kwds)\u001b[0m\n\u001b[0;32m    930\u001b[0m \u001b[1;33m\u001b[0m\u001b[0m\n\u001b[0;32m    931\u001b[0m         \u001b[0mself\u001b[0m\u001b[1;33m.\u001b[0m\u001b[0mhandles\u001b[0m\u001b[1;33m:\u001b[0m \u001b[0mIOHandles\u001b[0m \u001b[1;33m|\u001b[0m \u001b[1;32mNone\u001b[0m \u001b[1;33m=\u001b[0m \u001b[1;32mNone\u001b[0m\u001b[1;33m\u001b[0m\u001b[1;33m\u001b[0m\u001b[0m\n\u001b[1;32m--> 932\u001b[1;33m         \u001b[0mself\u001b[0m\u001b[1;33m.\u001b[0m\u001b[0m_engine\u001b[0m \u001b[1;33m=\u001b[0m \u001b[0mself\u001b[0m\u001b[1;33m.\u001b[0m\u001b[0m_make_engine\u001b[0m\u001b[1;33m(\u001b[0m\u001b[0mf\u001b[0m\u001b[1;33m,\u001b[0m \u001b[0mself\u001b[0m\u001b[1;33m.\u001b[0m\u001b[0mengine\u001b[0m\u001b[1;33m)\u001b[0m\u001b[1;33m\u001b[0m\u001b[1;33m\u001b[0m\u001b[0m\n\u001b[0m\u001b[0;32m    933\u001b[0m \u001b[1;33m\u001b[0m\u001b[0m\n\u001b[0;32m    934\u001b[0m     \u001b[1;32mdef\u001b[0m \u001b[0mclose\u001b[0m\u001b[1;33m(\u001b[0m\u001b[0mself\u001b[0m\u001b[1;33m)\u001b[0m\u001b[1;33m:\u001b[0m\u001b[1;33m\u001b[0m\u001b[1;33m\u001b[0m\u001b[0m\n",
      "\u001b[1;32mD:\\anaconda\\lib\\site-packages\\pandas\\io\\parsers\\readers.py\u001b[0m in \u001b[0;36m_make_engine\u001b[1;34m(self, f, engine)\u001b[0m\n\u001b[0;32m   1232\u001b[0m \u001b[1;33m\u001b[0m\u001b[0m\n\u001b[0;32m   1233\u001b[0m         \u001b[1;32mtry\u001b[0m\u001b[1;33m:\u001b[0m\u001b[1;33m\u001b[0m\u001b[1;33m\u001b[0m\u001b[0m\n\u001b[1;32m-> 1234\u001b[1;33m             \u001b[1;32mreturn\u001b[0m \u001b[0mmapping\u001b[0m\u001b[1;33m[\u001b[0m\u001b[0mengine\u001b[0m\u001b[1;33m]\u001b[0m\u001b[1;33m(\u001b[0m\u001b[0mf\u001b[0m\u001b[1;33m,\u001b[0m \u001b[1;33m**\u001b[0m\u001b[0mself\u001b[0m\u001b[1;33m.\u001b[0m\u001b[0moptions\u001b[0m\u001b[1;33m)\u001b[0m\u001b[1;33m\u001b[0m\u001b[1;33m\u001b[0m\u001b[0m\n\u001b[0m\u001b[0;32m   1235\u001b[0m         \u001b[1;32mexcept\u001b[0m \u001b[0mException\u001b[0m\u001b[1;33m:\u001b[0m\u001b[1;33m\u001b[0m\u001b[1;33m\u001b[0m\u001b[0m\n\u001b[0;32m   1236\u001b[0m             \u001b[1;32mif\u001b[0m \u001b[0mself\u001b[0m\u001b[1;33m.\u001b[0m\u001b[0mhandles\u001b[0m \u001b[1;32mis\u001b[0m \u001b[1;32mnot\u001b[0m \u001b[1;32mNone\u001b[0m\u001b[1;33m:\u001b[0m\u001b[1;33m\u001b[0m\u001b[1;33m\u001b[0m\u001b[0m\n",
      "\u001b[1;32mD:\\anaconda\\lib\\site-packages\\pandas\\io\\parsers\\c_parser_wrapper.py\u001b[0m in \u001b[0;36m__init__\u001b[1;34m(self, src, **kwds)\u001b[0m\n\u001b[0;32m     73\u001b[0m \u001b[1;33m\u001b[0m\u001b[0m\n\u001b[0;32m     74\u001b[0m         \u001b[0mkwds\u001b[0m\u001b[1;33m[\u001b[0m\u001b[1;34m\"dtype\"\u001b[0m\u001b[1;33m]\u001b[0m \u001b[1;33m=\u001b[0m \u001b[0mensure_dtype_objs\u001b[0m\u001b[1;33m(\u001b[0m\u001b[0mkwds\u001b[0m\u001b[1;33m.\u001b[0m\u001b[0mget\u001b[0m\u001b[1;33m(\u001b[0m\u001b[1;34m\"dtype\"\u001b[0m\u001b[1;33m,\u001b[0m \u001b[1;32mNone\u001b[0m\u001b[1;33m)\u001b[0m\u001b[1;33m)\u001b[0m\u001b[1;33m\u001b[0m\u001b[1;33m\u001b[0m\u001b[0m\n\u001b[1;32m---> 75\u001b[1;33m         \u001b[0mself\u001b[0m\u001b[1;33m.\u001b[0m\u001b[0m_reader\u001b[0m \u001b[1;33m=\u001b[0m \u001b[0mparsers\u001b[0m\u001b[1;33m.\u001b[0m\u001b[0mTextReader\u001b[0m\u001b[1;33m(\u001b[0m\u001b[0msrc\u001b[0m\u001b[1;33m,\u001b[0m \u001b[1;33m**\u001b[0m\u001b[0mkwds\u001b[0m\u001b[1;33m)\u001b[0m\u001b[1;33m\u001b[0m\u001b[1;33m\u001b[0m\u001b[0m\n\u001b[0m\u001b[0;32m     76\u001b[0m \u001b[1;33m\u001b[0m\u001b[0m\n\u001b[0;32m     77\u001b[0m         \u001b[0mself\u001b[0m\u001b[1;33m.\u001b[0m\u001b[0munnamed_cols\u001b[0m \u001b[1;33m=\u001b[0m \u001b[0mself\u001b[0m\u001b[1;33m.\u001b[0m\u001b[0m_reader\u001b[0m\u001b[1;33m.\u001b[0m\u001b[0munnamed_cols\u001b[0m\u001b[1;33m\u001b[0m\u001b[1;33m\u001b[0m\u001b[0m\n",
      "\u001b[1;32mD:\\anaconda\\lib\\site-packages\\pandas\\_libs\\parsers.pyx\u001b[0m in \u001b[0;36mpandas._libs.parsers.TextReader.__cinit__\u001b[1;34m()\u001b[0m\n",
      "\u001b[1;32mD:\\anaconda\\lib\\site-packages\\pandas\\_libs\\parsers.pyx\u001b[0m in \u001b[0;36mpandas._libs.parsers.TextReader._get_header\u001b[1;34m()\u001b[0m\n",
      "\u001b[1;32mD:\\anaconda\\lib\\site-packages\\pandas\\_libs\\parsers.pyx\u001b[0m in \u001b[0;36mpandas._libs.parsers.TextReader._tokenize_rows\u001b[1;34m()\u001b[0m\n",
      "\u001b[1;32mD:\\anaconda\\lib\\site-packages\\pandas\\_libs\\parsers.pyx\u001b[0m in \u001b[0;36mpandas._libs.parsers.raise_parser_error\u001b[1;34m()\u001b[0m\n",
      "\u001b[1;31mUnicodeDecodeError\u001b[0m: 'utf-8' codec can't decode byte 0x80 in position 20913: invalid start byte"
     ]
    }
   ],
   "source": [
    "players_team = pd.read_csv('full_player_stats.csv')\n",
    "advanced_stats = pd.read_csv('data/advanced_players.csv')\n",
    "mvp_voting = pd.read_csv('data/mvp_voting_shares.csv')\n",
    "dpoy_voting = pd.read_csv('data/dpoy_voting.csv')"
   ]
  },
  {
   "cell_type": "code",
   "execution_count": null,
   "id": "28ccd321-897a-4b12-8048-e49ed07aa176",
   "metadata": {
    "tags": []
   },
   "outputs": [],
   "source": [
    "players_team.head()"
   ]
  },
  {
   "cell_type": "code",
   "execution_count": null,
   "id": "439f61d3-2776-479f-aaf2-0649c1d2dbed",
   "metadata": {
    "tags": []
   },
   "outputs": [],
   "source": [
    "advanced_stats.head()"
   ]
  },
  {
   "cell_type": "code",
   "execution_count": null,
   "id": "d1cb6384-9623-413c-9e76-5a4f38db99cb",
   "metadata": {
    "tags": []
   },
   "outputs": [],
   "source": [
    "mvp_voting.head()"
   ]
  },
  {
   "cell_type": "code",
   "execution_count": null,
   "id": "6f20e6e0-ffd5-4066-baaf-4ed791871188",
   "metadata": {
    "tags": []
   },
   "outputs": [],
   "source": [
    "dpoy_voting.head()"
   ]
  },
  {
   "cell_type": "markdown",
   "id": "a6cebc44-3611-42a7-b657-8a43f56383bc",
   "metadata": {
    "jp-MarkdownHeadingCollapsed": true,
    "tags": []
   },
   "source": [
    "## Clean Data"
   ]
  },
  {
   "cell_type": "code",
   "execution_count": null,
   "id": "112c903d-7f82-4314-9bf3-6a10ef344f04",
   "metadata": {
    "tags": []
   },
   "outputs": [],
   "source": [
    "players_team.drop(columns = ['mvp','dpoy'],inplace = True)"
   ]
  },
  {
   "cell_type": "code",
   "execution_count": null,
   "id": "73e80349-0332-42f2-8f15-29e29029610a",
   "metadata": {
    "tags": []
   },
   "outputs": [],
   "source": [
    "season = []\n",
    "start = 2023\n",
    "for idx,row in dpoy_voting.iterrows():\n",
    "    if row['Rank'] == '1':\n",
    "        start -= 1\n",
    "    \n",
    "    season.append(start)\n",
    "dpoy_voting['Season'] = season"
   ]
  },
  {
   "cell_type": "code",
   "execution_count": null,
   "id": "d555803a-bbdd-4c6c-a2af-b25b88a73a38",
   "metadata": {
    "tags": []
   },
   "outputs": [],
   "source": [
    "dpoy_voting = dpoy_voting[['Season', 'Player',  'Pts Won', 'Pts Max', 'Share']]\n",
    "dpoy_voting.head()"
   ]
  },
  {
   "cell_type": "code",
   "execution_count": null,
   "id": "63384ef3-e7d4-4468-8a83-4be4420328ef",
   "metadata": {
    "tags": []
   },
   "outputs": [],
   "source": [
    "advanced_stats = advanced_stats[advanced_stats['Player'] != 'Player']"
   ]
  },
  {
   "cell_type": "code",
   "execution_count": null,
   "id": "37ed52cb-c03a-4cad-b6c3-2154d16f2a5e",
   "metadata": {
    "tags": []
   },
   "outputs": [],
   "source": [
    "players_teams = {}\n",
    "for ply,group in advanced_stats.groupby(['Player','Season']):\n",
    "    if group.shape[0] > 1:\n",
    "        tm = list(group.Tm)[-1]\n",
    "        if 28 in group.index:\n",
    "            print(group.Tm)\n",
    "        players_teams[list(group.index)[0]] = tm\n",
    "        if tm == 'TOT':\n",
    "            print(ply)"
   ]
  },
  {
   "cell_type": "code",
   "execution_count": null,
   "id": "49cc69f9-7389-441c-8fe6-bfff6035ce1d",
   "metadata": {
    "tags": []
   },
   "outputs": [],
   "source": [
    "teams_list = []\n",
    "for idx,row in advanced_stats.iterrows():\n",
    "    if idx in players_teams.keys():\n",
    "        tm = players_teams[idx]\n",
    "        teams_list.append(tm)\n",
    "    else:\n",
    "        tm = row['Tm']\n",
    "        if idx == 3613:\n",
    "            tm = 'UTA'\n",
    "        elif idx == 21:\n",
    "            tm = 'MIA'\n",
    "        elif idx == 4189:\n",
    "            tm = 'WAS'\n",
    "        elif idx == 3037:\n",
    "            tm = 'BOS'\n",
    "        elif idx == 11099:\n",
    "            tm = 'CHI'\n",
    "        elif idx == 6128:\n",
    "            tm = 'NJN'\n",
    "        teams_list.append(tm)\n",
    "advanced_stats['Tm'] = teams_list"
   ]
  },
  {
   "cell_type": "code",
   "execution_count": null,
   "id": "3700bbaf-f9a9-47c3-9bd1-5e3a028fbd60",
   "metadata": {
    "tags": []
   },
   "outputs": [],
   "source": [
    "advanced_stats.drop_duplicates(['Player','Season'],keep = 'first',inplace = True)"
   ]
  },
  {
   "cell_type": "code",
   "execution_count": null,
   "id": "8ca28aa1-a524-4c9a-9954-d6805591a176",
   "metadata": {
    "tags": []
   },
   "outputs": [],
   "source": [
    "players_team.shape"
   ]
  },
  {
   "cell_type": "code",
   "execution_count": null,
   "id": "c8cd900e-0693-44fe-bcd5-1d6e59274242",
   "metadata": {
    "tags": []
   },
   "outputs": [],
   "source": [
    "advanced_stats.shape"
   ]
  },
  {
   "cell_type": "code",
   "execution_count": null,
   "id": "5fbaa9fb-04b4-4ecd-a9fe-c8ebcba7b56f",
   "metadata": {
    "tags": []
   },
   "outputs": [],
   "source": [
    "advanced_stats.columns"
   ]
  },
  {
   "cell_type": "code",
   "execution_count": null,
   "id": "bcd0c151-1b55-4f30-854f-55f60144d4d1",
   "metadata": {
    "tags": []
   },
   "outputs": [],
   "source": [
    "players_team.columns"
   ]
  },
  {
   "cell_type": "code",
   "execution_count": null,
   "id": "8e1678c2-793f-4686-b0b3-9cb6b122795c",
   "metadata": {
    "tags": []
   },
   "outputs": [],
   "source": [
    "advanced_stats = advanced_stats[['Season', 'Player', 'Tm', 'PER', 'TS%', '3PAr',\n",
    "       'FTr', 'ORB%', 'DRB%', 'TRB%', 'AST%', 'STL%', 'BLK%', 'TOV%', 'USG%',\n",
    "       'OWS', 'DWS', 'WS', 'WS/48', 'OBPM', 'DBPM', 'BPM', 'VORP']]"
   ]
  },
  {
   "cell_type": "code",
   "execution_count": null,
   "id": "3e1efbe8-ec15-410d-acdd-0c12ebbdbcbb",
   "metadata": {
    "tags": []
   },
   "outputs": [],
   "source": [
    "full_players = players_team.merge(advanced_stats, on = ['Player','Tm','Season'],how = 'inner')\n",
    "full_players.shape"
   ]
  },
  {
   "cell_type": "code",
   "execution_count": null,
   "id": "bfc46e08-062f-49e8-9170-cf20fe4256e8",
   "metadata": {
    "tags": []
   },
   "outputs": [],
   "source": [
    "full_players.head()"
   ]
  },
  {
   "cell_type": "code",
   "execution_count": null,
   "id": "bbbde05c-666d-4854-93d1-32cd1135b814",
   "metadata": {
    "tags": []
   },
   "outputs": [],
   "source": [
    "full_players_mvp = full_players.merge(mvp_voting,on = ['Season','Player'],how = 'left')\n",
    "full_players_mvp.shape"
   ]
  },
  {
   "cell_type": "code",
   "execution_count": null,
   "id": "a32d4e93-997b-4910-9980-faf82338674f",
   "metadata": {
    "tags": []
   },
   "outputs": [],
   "source": [
    "full_players_mvp"
   ]
  },
  {
   "cell_type": "code",
   "execution_count": null,
   "id": "2637d9dd-e534-4b14-8d38-7d0fb138b099",
   "metadata": {
    "tags": []
   },
   "outputs": [],
   "source": [
    "full_players_mvp[~full_players_mvp['Share'].isnull()]"
   ]
  },
  {
   "cell_type": "code",
   "execution_count": null,
   "id": "301c5406-a5b1-4333-a934-26145a5dd6e0",
   "metadata": {
    "tags": []
   },
   "outputs": [],
   "source": [
    "full_players_awards = full_players_mvp.merge(dpoy_voting,on = ['Season','Player'],how = 'left',suffixes = ('_mvp','_dpoy'))\n",
    "full_players_awards.shape"
   ]
  },
  {
   "cell_type": "code",
   "execution_count": null,
   "id": "11a0de3f-fc8b-4886-9924-0a6238c3d377",
   "metadata": {
    "tags": []
   },
   "outputs": [],
   "source": [
    "full_players_awards.fillna(0,inplace = True)"
   ]
  },
  {
   "cell_type": "code",
   "execution_count": null,
   "id": "955c7cb1-66cf-47f3-a045-4b155f640b92",
   "metadata": {
    "tags": []
   },
   "outputs": [],
   "source": [
    "full_players_awards.to_csv('full_players_dataset.csv',index = False)"
   ]
  },
  {
   "cell_type": "code",
   "execution_count": null,
   "id": "983a62b0-6509-4b9d-8464-b27cf0e592d4",
   "metadata": {
    "tags": []
   },
   "outputs": [],
   "source": [
    "full_dataset = pd.read_csv('full_players_dataset.csv')\n",
    "full_dataset.head()"
   ]
  },
  {
   "cell_type": "code",
   "execution_count": null,
   "id": "3ff01109-6ad6-4f99-8988-a20bece06174",
   "metadata": {
    "tags": []
   },
   "outputs": [],
   "source": [
    "full_dataset.columns"
   ]
  },
  {
   "cell_type": "code",
   "execution_count": null,
   "id": "cc26cc50-4dc8-4c98-b083-6f7a56b1eb8c",
   "metadata": {
    "tags": []
   },
   "outputs": [],
   "source": [
    "full_dataset['received_mvp_votes'] = [1 if row['Share_mvp']!=0 else 0 for idx,row in full_dataset.iterrows()]\n",
    "full_dataset['received_dpoy_votes'] = [1 if row['Share_dpoy']!=0 else 0 for idx,row in full_dataset.iterrows()]"
   ]
  },
  {
   "cell_type": "code",
   "execution_count": null,
   "id": "c0bb94c3-85a9-442d-a672-e0b66e5f5c48",
   "metadata": {
    "tags": []
   },
   "outputs": [],
   "source": [
    "cols_to_normalize = ['G','GS','W','L','FG', 'FGA', 'FG%', '3P', '3PA', '3P%', '2P', '2PA', '2P%', 'eFG%', 'FT', 'FTA',\n",
    "       'FT%', 'ORB', 'DRB', 'TRB', 'AST', 'STL', 'BLK', 'TOV', 'PF', 'PTS',\n",
    "       'PER', 'TS%', '3PAr', 'FTr', 'ORB%', 'DRB%', 'TRB%', 'AST%', 'STL%', 'BLK%', 'TOV%', 'USG%']"
   ]
  },
  {
   "cell_type": "code",
   "execution_count": null,
   "id": "a92d5a5e-3330-4dbc-9a6b-db1c7939fc4e",
   "metadata": {
    "tags": []
   },
   "outputs": [],
   "source": [
    "normalized = full_dataset.groupby('Season')[cols_to_normalize].transform(lambda x: (x - x.mean()) / x.std())"
   ]
  },
  {
   "cell_type": "code",
   "execution_count": null,
   "id": "b2063452-b9e1-4b16-ba0f-968f23a34e5a",
   "metadata": {
    "tags": []
   },
   "outputs": [],
   "source": [
    "full_normalized = full_dataset.merge(normalized,right_index = True,left_index=True,suffixes = ('','_normalized'))"
   ]
  },
  {
   "cell_type": "code",
   "execution_count": null,
   "id": "7246476d-b332-4cd3-b7f3-8f9b9a0eca20",
   "metadata": {
    "tags": []
   },
   "outputs": [],
   "source": [
    "full_normalized.head()"
   ]
  },
  {
   "cell_type": "code",
   "execution_count": null,
   "id": "095d700b-edd3-4270-8c34-04a64fa20488",
   "metadata": {
    "tags": []
   },
   "outputs": [],
   "source": [
    "full_normalized.drop(cols_to_normalize,axis = 1,inplace=True)"
   ]
  },
  {
   "cell_type": "code",
   "execution_count": null,
   "id": "d5ae6df7-214f-4920-8068-0d87bb2d8743",
   "metadata": {
    "tags": []
   },
   "outputs": [],
   "source": [
    "full_normalized.head()"
   ]
  },
  {
   "cell_type": "code",
   "execution_count": null,
   "id": "0dc91c97-f5a0-4de9-b702-d1ec9ee16026",
   "metadata": {
    "tags": []
   },
   "outputs": [],
   "source": [
    "full_normalized.to_csv(\"normalized_data.csv\",index=False)"
   ]
  },
  {
   "cell_type": "markdown",
   "id": "20ee6d0b-1cd7-499f-9a58-914da83ab9b5",
   "metadata": {},
   "source": [
    "## Load Cleaned Data"
   ]
  },
  {
   "cell_type": "code",
   "execution_count": 7,
   "id": "d44493e5-bbbd-48b6-bcf8-16ecd2ade01d",
   "metadata": {
    "tags": []
   },
   "outputs": [
    {
     "data": {
      "text/html": [
       "<div>\n",
       "<style scoped>\n",
       "    .dataframe tbody tr th:only-of-type {\n",
       "        vertical-align: middle;\n",
       "    }\n",
       "\n",
       "    .dataframe tbody tr th {\n",
       "        vertical-align: top;\n",
       "    }\n",
       "\n",
       "    .dataframe thead th {\n",
       "        text-align: right;\n",
       "    }\n",
       "</style>\n",
       "<table border=\"1\" class=\"dataframe\">\n",
       "  <thead>\n",
       "    <tr style=\"text-align: right;\">\n",
       "      <th></th>\n",
       "      <th>Season</th>\n",
       "      <th>Player</th>\n",
       "      <th>Pos</th>\n",
       "      <th>Age</th>\n",
       "      <th>Tm</th>\n",
       "      <th>MP</th>\n",
       "      <th>Year</th>\n",
       "      <th>Team</th>\n",
       "      <th>W/L%</th>\n",
       "      <th>GB</th>\n",
       "      <th>...</th>\n",
       "      <th>3PAr_normalized</th>\n",
       "      <th>FTr_normalized</th>\n",
       "      <th>ORB%_normalized</th>\n",
       "      <th>DRB%_normalized</th>\n",
       "      <th>TRB%_normalized</th>\n",
       "      <th>AST%_normalized</th>\n",
       "      <th>STL%_normalized</th>\n",
       "      <th>BLK%_normalized</th>\n",
       "      <th>TOV%_normalized</th>\n",
       "      <th>USG%_normalized</th>\n",
       "    </tr>\n",
       "  </thead>\n",
       "  <tbody>\n",
       "    <tr>\n",
       "      <th>0</th>\n",
       "      <td>1998</td>\n",
       "      <td>Mahmoud Abdul-Rauf</td>\n",
       "      <td>PG</td>\n",
       "      <td>28.0</td>\n",
       "      <td>SAC</td>\n",
       "      <td>530.0</td>\n",
       "      <td>1998</td>\n",
       "      <td>SAC</td>\n",
       "      <td>0.329</td>\n",
       "      <td>34.0</td>\n",
       "      <td>...</td>\n",
       "      <td>-0.223145</td>\n",
       "      <td>-1.479163</td>\n",
       "      <td>-1.061591</td>\n",
       "      <td>-1.082926</td>\n",
       "      <td>-1.256266</td>\n",
       "      <td>0.678781</td>\n",
       "      <td>-0.270151</td>\n",
       "      <td>-0.824493</td>\n",
       "      <td>-1.271023</td>\n",
       "      <td>1.028959</td>\n",
       "    </tr>\n",
       "    <tr>\n",
       "      <th>1</th>\n",
       "      <td>1998</td>\n",
       "      <td>Tariq Abdul-Wahad</td>\n",
       "      <td>SG</td>\n",
       "      <td>23.0</td>\n",
       "      <td>SAC</td>\n",
       "      <td>959.0</td>\n",
       "      <td>1998</td>\n",
       "      <td>SAC</td>\n",
       "      <td>0.329</td>\n",
       "      <td>34.0</td>\n",
       "      <td>...</td>\n",
       "      <td>-0.577654</td>\n",
       "      <td>0.059612</td>\n",
       "      <td>-0.333466</td>\n",
       "      <td>-0.775932</td>\n",
       "      <td>-0.686891</td>\n",
       "      <td>-0.475951</td>\n",
       "      <td>0.010661</td>\n",
       "      <td>-0.352740</td>\n",
       "      <td>-0.260471</td>\n",
       "      <td>0.499256</td>\n",
       "    </tr>\n",
       "    <tr>\n",
       "      <th>2</th>\n",
       "      <td>1998</td>\n",
       "      <td>Terry Dehere</td>\n",
       "      <td>PG</td>\n",
       "      <td>26.0</td>\n",
       "      <td>SAC</td>\n",
       "      <td>1410.0</td>\n",
       "      <td>1998</td>\n",
       "      <td>SAC</td>\n",
       "      <td>0.329</td>\n",
       "      <td>34.0</td>\n",
       "      <td>...</td>\n",
       "      <td>0.817135</td>\n",
       "      <td>-0.627813</td>\n",
       "      <td>-0.984946</td>\n",
       "      <td>-1.050611</td>\n",
       "      <td>-1.195261</td>\n",
       "      <td>0.967465</td>\n",
       "      <td>0.010661</td>\n",
       "      <td>-0.765524</td>\n",
       "      <td>0.118486</td>\n",
       "      <td>-0.118731</td>\n",
       "    </tr>\n",
       "    <tr>\n",
       "      <th>3</th>\n",
       "      <td>1998</td>\n",
       "      <td>Lawrence Funderburke</td>\n",
       "      <td>PF</td>\n",
       "      <td>27.0</td>\n",
       "      <td>SAC</td>\n",
       "      <td>1094.0</td>\n",
       "      <td>1998</td>\n",
       "      <td>SAC</td>\n",
       "      <td>0.329</td>\n",
       "      <td>34.0</td>\n",
       "      <td>...</td>\n",
       "      <td>-0.781061</td>\n",
       "      <td>0.403325</td>\n",
       "      <td>0.241370</td>\n",
       "      <td>0.419729</td>\n",
       "      <td>0.370520</td>\n",
       "      <td>-0.358339</td>\n",
       "      <td>-0.925378</td>\n",
       "      <td>-0.352740</td>\n",
       "      <td>-0.513109</td>\n",
       "      <td>0.358002</td>\n",
       "    </tr>\n",
       "    <tr>\n",
       "      <th>4</th>\n",
       "      <td>1998</td>\n",
       "      <td>Derek Grimm</td>\n",
       "      <td>SF</td>\n",
       "      <td>23.0</td>\n",
       "      <td>SAC</td>\n",
       "      <td>34.0</td>\n",
       "      <td>1998</td>\n",
       "      <td>SAC</td>\n",
       "      <td>0.329</td>\n",
       "      <td>34.0</td>\n",
       "      <td>...</td>\n",
       "      <td>4.094891</td>\n",
       "      <td>-1.034981</td>\n",
       "      <td>-1.291525</td>\n",
       "      <td>-0.000368</td>\n",
       "      <td>-0.727560</td>\n",
       "      <td>-1.427536</td>\n",
       "      <td>2.537968</td>\n",
       "      <td>0.295920</td>\n",
       "      <td>0.188663</td>\n",
       "      <td>0.728794</td>\n",
       "    </tr>\n",
       "  </tbody>\n",
       "</table>\n",
       "<p>5 rows × 69 columns</p>\n",
       "</div>"
      ],
      "text/plain": [
       "   Season                Player Pos   Age   Tm      MP  Year Team   W/L%  \\\n",
       "0    1998    Mahmoud Abdul-Rauf  PG  28.0  SAC   530.0  1998  SAC  0.329   \n",
       "1    1998     Tariq Abdul-Wahad  SG  23.0  SAC   959.0  1998  SAC  0.329   \n",
       "2    1998          Terry Dehere  PG  26.0  SAC  1410.0  1998  SAC  0.329   \n",
       "3    1998  Lawrence Funderburke  PF  27.0  SAC  1094.0  1998  SAC  0.329   \n",
       "4    1998           Derek Grimm  SF  23.0  SAC    34.0  1998  SAC  0.329   \n",
       "\n",
       "     GB  ...  3PAr_normalized  FTr_normalized  ORB%_normalized  \\\n",
       "0  34.0  ...        -0.223145       -1.479163        -1.061591   \n",
       "1  34.0  ...        -0.577654        0.059612        -0.333466   \n",
       "2  34.0  ...         0.817135       -0.627813        -0.984946   \n",
       "3  34.0  ...        -0.781061        0.403325         0.241370   \n",
       "4  34.0  ...         4.094891       -1.034981        -1.291525   \n",
       "\n",
       "   DRB%_normalized  TRB%_normalized  AST%_normalized  STL%_normalized  \\\n",
       "0        -1.082926        -1.256266         0.678781        -0.270151   \n",
       "1        -0.775932        -0.686891        -0.475951         0.010661   \n",
       "2        -1.050611        -1.195261         0.967465         0.010661   \n",
       "3         0.419729         0.370520        -0.358339        -0.925378   \n",
       "4        -0.000368        -0.727560        -1.427536         2.537968   \n",
       "\n",
       "   BLK%_normalized  TOV%_normalized  USG%_normalized  \n",
       "0        -0.824493        -1.271023         1.028959  \n",
       "1        -0.352740        -0.260471         0.499256  \n",
       "2        -0.765524         0.118486        -0.118731  \n",
       "3        -0.352740        -0.513109         0.358002  \n",
       "4         0.295920         0.188663         0.728794  \n",
       "\n",
       "[5 rows x 69 columns]"
      ]
     },
     "execution_count": 7,
     "metadata": {},
     "output_type": "execute_result"
    }
   ],
   "source": [
    "full_dataset = pd.read_csv('normalized_data.csv')\n",
    "full_dataset.head()"
   ]
  },
  {
   "cell_type": "markdown",
   "id": "b19587a3-9c4a-4bd4-ba38-5eb4e54df42c",
   "metadata": {},
   "source": [
    "## Feature Selection"
   ]
  },
  {
   "cell_type": "code",
   "execution_count": 8,
   "id": "e0b1a9e0-51f1-43d2-93a8-d2cad955af62",
   "metadata": {
    "tags": []
   },
   "outputs": [
    {
     "data": {
      "text/plain": [
       "Index(['Season', 'Player', 'Pos', 'Age', 'Tm', 'MP', 'Year', 'Team', 'W/L%',\n",
       "       'GB', 'PS/G', 'PA/G', 'SRS', 'Playoffs', 'Losing_season', 'OWS', 'DWS',\n",
       "       'WS', 'WS/48', 'OBPM', 'DBPM', 'BPM', 'VORP', 'Pts Won_mvp',\n",
       "       'Pts Max_mvp', 'Share_mvp', 'Pts Won_dpoy', 'Pts Max_dpoy',\n",
       "       'Share_dpoy', 'received_mvp_votes', 'received_dpoy_votes',\n",
       "       'G_normalized', 'GS_normalized', 'W_normalized', 'L_normalized',\n",
       "       'FG_normalized', 'FGA_normalized', 'FG%_normalized', '3P_normalized',\n",
       "       '3PA_normalized', '3P%_normalized', '2P_normalized', '2PA_normalized',\n",
       "       '2P%_normalized', 'eFG%_normalized', 'FT_normalized', 'FTA_normalized',\n",
       "       'FT%_normalized', 'ORB_normalized', 'DRB_normalized', 'TRB_normalized',\n",
       "       'AST_normalized', 'STL_normalized', 'BLK_normalized', 'TOV_normalized',\n",
       "       'PF_normalized', 'PTS_normalized', 'PER_normalized', 'TS%_normalized',\n",
       "       '3PAr_normalized', 'FTr_normalized', 'ORB%_normalized',\n",
       "       'DRB%_normalized', 'TRB%_normalized', 'AST%_normalized',\n",
       "       'STL%_normalized', 'BLK%_normalized', 'TOV%_normalized',\n",
       "       'USG%_normalized'],\n",
       "      dtype='object')"
      ]
     },
     "execution_count": 8,
     "metadata": {},
     "output_type": "execute_result"
    }
   ],
   "source": [
    "full_dataset.columns"
   ]
  },
  {
   "cell_type": "markdown",
   "id": "e64071c7-0366-46eb-b4d9-b39937c7805b",
   "metadata": {},
   "source": [
    "## Create Models"
   ]
  },
  {
   "cell_type": "markdown",
   "id": "d580ca5b-677e-495d-8c3c-6a29d2f259e4",
   "metadata": {},
   "source": [
    "### Random Forest"
   ]
  },
  {
   "cell_type": "code",
   "execution_count": 9,
   "id": "60f3babe-f125-4b9e-80f9-9ee46ae2bc81",
   "metadata": {
    "tags": []
   },
   "outputs": [],
   "source": [
    "mvp_dataset = full_dataset[['Playoffs', 'OWS', 'DWS',\n",
    "       'WS', 'WS/48', 'OBPM', 'DBPM', 'BPM', 'VORP', 'received_mvp_votes',\n",
    "       'G_normalized', 'GS_normalized', 'W_normalized', 'L_normalized',\n",
    "       'FG_normalized', 'FGA_normalized', 'FG%_normalized', '3P_normalized',\n",
    "       '3PA_normalized', '3P%_normalized', '2P_normalized', '2PA_normalized',\n",
    "       '2P%_normalized', 'eFG%_normalized', 'FT_normalized', 'FTA_normalized',\n",
    "       'FT%_normalized', 'ORB_normalized', 'DRB_normalized', 'TRB_normalized',\n",
    "       'AST_normalized', 'STL_normalized', 'BLK_normalized', 'TOV_normalized',\n",
    "       'PF_normalized', 'PTS_normalized', 'PER_normalized', 'TS%_normalized',\n",
    "       '3PAr_normalized', 'FTr_normalized', 'ORB%_normalized',\n",
    "       'DRB%_normalized', 'TRB%_normalized', 'AST%_normalized',\n",
    "       'STL%_normalized', 'BLK%_normalized', 'TOV%_normalized',\n",
    "       'USG%_normalized']]"
   ]
  },
  {
   "cell_type": "code",
   "execution_count": 10,
   "id": "9b1a2409-dfb3-4b2d-92c8-c129a5f79fd6",
   "metadata": {
    "tags": []
   },
   "outputs": [],
   "source": [
    "X = np.array(mvp_dataset.drop(['received_mvp_votes'],axis=1))\n",
    "y = np.array(mvp_dataset['received_mvp_votes'])\n",
    "\n",
    "X_train, X_test, y_train, y_test = train_test_split(X, y, test_size=0.1, random_state=42)"
   ]
  },
  {
   "cell_type": "code",
   "execution_count": 11,
   "id": "b7b97744-129f-4a58-aee6-375bcf34bc5b",
   "metadata": {
    "tags": []
   },
   "outputs": [
    {
     "name": "stdout",
     "output_type": "stream",
     "text": [
      "The training accuracy: 0.9986509274873524\n",
      "The out of bag classification accuracy: 0.9831365935919055\n"
     ]
    }
   ],
   "source": [
    "clf = RandomForestClassifier(30, oob_score = True).fit(X_train,y_train)\n",
    "\n",
    "print(f'The training accuracy: {clf.score(X,y)}')\n",
    "print(f'The out of bag classification accuracy: {clf.oob_score_}')"
   ]
  },
  {
   "cell_type": "code",
   "execution_count": 12,
   "id": "8cedf6f9-7353-450e-9baf-a828416407fd",
   "metadata": {
    "scrolled": false,
    "tags": []
   },
   "outputs": [
    {
     "data": {
      "text/plain": [
       "0.9890387858347386"
      ]
     },
     "execution_count": 12,
     "metadata": {},
     "output_type": "execute_result"
    }
   ],
   "source": [
    "clf.score(X_test,y_test)"
   ]
  },
  {
   "cell_type": "markdown",
   "id": "67d29ac8",
   "metadata": {},
   "source": [
    "### validate the result with different matrix (new)"
   ]
  },
  {
   "cell_type": "code",
   "execution_count": 25,
   "id": "8fd01f77",
   "metadata": {},
   "outputs": [
    {
     "name": "stdout",
     "output_type": "stream",
     "text": [
      "Classification Report:\n",
      "              precision    recall  f1-score   support\n",
      "\n",
      "           0       0.99      1.00      0.99      1159\n",
      "           1       0.89      0.59      0.71        27\n",
      "\n",
      "    accuracy                           0.99      1186\n",
      "   macro avg       0.94      0.80      0.85      1186\n",
      "weighted avg       0.99      0.99      0.99      1186\n",
      "\n",
      "Confusion Matrix:\n",
      "[[1157    2]\n",
      " [  11   16]]\n",
      "ROC-AUC Score:\n",
      "0.9717189147732719\n",
      "Mean Squared Error (MSE): 0.010961214165261383\n",
      "Root Mean Squared Error (RMSE): 0.10469581732457789\n",
      "Mean Absolute Error (MAE): 0.010961214165261383\n",
      "R² Score: 0.5073019525133418\n"
     ]
    }
   ],
   "source": [
    "from sklearn.metrics import classification_report, confusion_matrix, roc_auc_score\n",
    "from sklearn.metrics import mean_squared_error, mean_absolute_error, r2_score\n",
    "\n",
    "# Assuming you have already trained your classifier 'clf' and have your test sets 'X_test' and 'y_test'\n",
    "\n",
    "# Predictions for the test set\n",
    "y_pred = clf.predict(X_test)\n",
    "y_pred_proba = clf.predict_proba(X_test)[:, 1]  # probabilities for ROC-AUC\n",
    "\n",
    "# Classification Metrics\n",
    "print(\"Classification Report:\")\n",
    "print(classification_report(y_test, y_pred))\n",
    "\n",
    "print(\"Confusion Matrix:\")\n",
    "print(confusion_matrix(y_test, y_pred))\n",
    "\n",
    "print(\"ROC-AUC Score:\")\n",
    "print(roc_auc_score(y_test, y_pred_proba))\n",
    "\n",
    "# Regression Metrics for the classification predictions\n",
    "print(\"Mean Squared Error (MSE):\", mean_squared_error(y_test, y_pred))\n",
    "print(\"Root Mean Squared Error (RMSE):\", mean_squared_error(y_test, y_pred, squared=False))\n",
    "print(\"Mean Absolute Error (MAE):\", mean_absolute_error(y_test, y_pred))\n",
    "print(\"R² Score:\", r2_score(y_test, y_pred))\n"
   ]
  },
  {
   "cell_type": "markdown",
   "id": "9fcfa0c3",
   "metadata": {},
   "source": [
    "### Apply Regression (New)"
   ]
  },
  {
   "cell_type": "code",
   "execution_count": 33,
   "id": "768318c4",
   "metadata": {},
   "outputs": [],
   "source": [
    "from sklearn.ensemble import RandomForestRegressor\n",
    "\n",
    "#create the new variable for the regression\n",
    "y_regr = np.array(full_dataset['Share_mvp'])\n",
    "\n",
    "# need to filter out the training data for players predicted not to receive votes\n",
    "# predict on the entire dataset\n",
    "predicted_votes = clf.predict(X)\n",
    "\n",
    "#filter X and y for regression based on the prediction\n",
    "X_regr = X[predicted_votes > 0]\n",
    "y_regr = y_regr[predicted_votes > 0]\n",
    "\n",
    "X_train_regr, X_test_regr, y_train_regr, y_test_regr = train_test_split(X_regr, y_regr, test_size=0.1, random_state=42)\n",
    "\n",
    "regr = RandomForestRegressor(n_estimators=40, oob_score=True)\n",
    "regr.fit(X_train_regr, y_train_regr)\n",
    "\n",
    "regression_score = regr.score(X_test_regr, y_test_regr)"
   ]
  },
  {
   "cell_type": "code",
   "execution_count": 23,
   "id": "3b249fec",
   "metadata": {},
   "outputs": [
    {
     "name": "stdout",
     "output_type": "stream",
     "text": [
      "[0 0 0 ... 0 0 0]\n",
      "(array([    9,   104,   128,   132,   139,   151,   159,   176,   203,\n",
      "         250,   278,   324,   353,   365,   374,   420,   450,   495,\n",
      "         509,   537,   556,   584,   587,   601,   612,   626,   650,\n",
      "         666,   706,   722,   741,   775,   810,   820,   866,   876,\n",
      "         923,   979,  1048,  1067,  1086,  1112,  1115,  1157,  1181,\n",
      "        1189,  1205,  1239,  1263,  1273,  1294,  1311,  1356,  1377,\n",
      "        1395,  1403,  1417,  1434,  1476,  1485,  1529,  1559,  1568,\n",
      "        1591,  1629,  1667,  1713,  1724,  1734,  1771,  1773,  1800,\n",
      "        1818,  1820,  1908,  1965,  1984,  2007,  2042,  2057,  2081,\n",
      "        2090,  2093,  2097,  2110,  2155,  2164,  2209,  2210,  2390,\n",
      "        2409,  2426,  2454,  2462,  2500,  2558,  2566,  2575,  2613,\n",
      "        2678,  2703,  2761,  2776,  2796,  2851,  2885,  2898,  2911,\n",
      "        2933,  2995,  3003,  3024,  3026,  3046,  3063,  3102,  3145,\n",
      "        3187,  3189,  3196,  3208,  3248,  3306,  3320,  3322,  3327,\n",
      "        3348,  3414,  3463,  3474,  3522,  3548,  3667,  3679,  3759,\n",
      "        3781,  3819,  3820,  3834,  3844,  3852,  3944,  4031,  4103,\n",
      "        4143,  4158,  4171,  4287,  4290,  4293,  4315,  4320,  4328,\n",
      "        4335,  4391,  4421,  4439,  4467,  4536,  4545,  4548,  4560,\n",
      "        4572,  4584,  4595,  4623,  4643,  4662,  4670,  4693,  4736,\n",
      "        4740,  4781,  4783,  4971,  5005,  5032,  5056,  5083,  5106,\n",
      "        5125,  5146,  5205,  5220,  5331,  5346,  5348,  5366,  5429,\n",
      "        5442,  5444,  5463,  5482,  5558,  5579,  5634,  5684,  5731,\n",
      "        5774,  5847,  5880,  5900,  5926,  5944,  5952,  5959,  5974,\n",
      "        5988,  5994,  6019,  6050,  6057,  6302,  6314,  6358,  6439,\n",
      "        6448,  6456,  6493,  6498,  6510,  6538,  6548,  6560,  6600,\n",
      "        6692,  6837,  6842,  6850,  6882,  6891,  6992,  6998,  7012,\n",
      "        7021,  7029,  7061,  7101,  7110,  7122,  7202,  7267,  7283,\n",
      "        7302,  7323,  7332,  7359,  7449,  7480,  7494,  7501,  7506,\n",
      "        7525,  7542,  7547,  7623,  7647,  7685,  7712,  7734,  7755,\n",
      "        7858,  7862,  7921,  7963,  7974,  7981,  7987,  8129,  8195,\n",
      "        8207,  8252,  8266,  8283,  8390,  8433,  8435,  8512,  8620,\n",
      "        8646,  8687,  8724,  8780,  8832,  8840,  8959,  8960,  9039,\n",
      "        9083,  9104,  9134,  9194,  9205,  9246,  9268,  9302,  9323,\n",
      "        9333,  9354,  9518,  9519,  9647,  9666,  9674,  9753,  9803,\n",
      "        9858,  9903,  9947,  9964, 10055, 10103, 10105, 10153, 10202,\n",
      "       10208, 10345, 10355, 10377, 10382, 10398, 10420, 10498, 10520,\n",
      "       10604, 10694, 10735, 10779, 10804, 10874, 10890, 10973, 10982,\n",
      "       11040, 11042, 11053, 11088, 11099, 11169, 11237, 11252, 11291,\n",
      "       11326, 11359, 11451, 11526, 11538, 11593, 11663, 11673, 11763,\n",
      "       11773, 11789, 11840], dtype=int64),)\n"
     ]
    }
   ],
   "source": [
    "print(predicted_votes)\n",
    "candidate=np.where(predicted_votes==1)\n",
    "print(candidate)"
   ]
  },
  {
   "cell_type": "code",
   "execution_count": 34,
   "id": "175417f0",
   "metadata": {
    "scrolled": true
   },
   "outputs": [
    {
     "name": "stdout",
     "output_type": "stream",
     "text": [
      "Regression score: 0.3491705737284555\n",
      "Mean Squared Error (MSE) for Regression: 0.06054594390625001\n",
      "Mean Absolute Error (MAE) for Regression: 0.16820763888888887\n",
      "R² Score for Regression: 0.3491705737284555\n"
     ]
    }
   ],
   "source": [
    "from sklearn.metrics import mean_squared_error, mean_absolute_error, r2_score\n",
    "\n",
    "# Predictions for regression\n",
    "y_pred_regr = regr.predict(X_test_regr)\n",
    "\n",
    "# Regression metrics\n",
    "mse_regr = mean_squared_error(y_test_regr, y_pred_regr)\n",
    "mae_regr = mean_absolute_error(y_test_regr, y_pred_regr)\n",
    "r2_regr = r2_score(y_test_regr, y_pred_regr)\n",
    "\n",
    "print(\"Regression score:\", regression_score)\n",
    "print(\"Mean Squared Error (MSE) for Regression:\", mse_regr)\n",
    "print(\"Mean Absolute Error (MAE) for Regression:\", mae_regr)\n",
    "print(\"R² Score for Regression:\", r2_regr)"
   ]
  },
  {
   "cell_type": "code",
   "execution_count": 35,
   "id": "5a8ff7d1",
   "metadata": {},
   "outputs": [
    {
     "name": "stdout",
     "output_type": "stream",
     "text": [
      "Test Accuracy with 20 trees = 0.386132955285839\n",
      "Test Accuracy with 25 trees = 0.3213834840297658\n",
      "Test Accuracy with 30 trees = 0.34796864518011894\n",
      "Test Accuracy with 35 trees = 0.3112553250230117\n",
      "Test Accuracy with 40 trees = 0.40470649052272856\n",
      "Test Accuracy with 45 trees = 0.43756297231267194\n",
      "Test Accuracy with 50 trees = 0.27559501975072453\n",
      "Test Accuracy with 55 trees = 0.3210259263223928\n",
      "Test Accuracy with 60 trees = 0.36557751913522873\n",
      "Test Accuracy with 65 trees = 0.37126440979431674\n",
      "Test Accuracy with 70 trees = 0.3235662544887451\n",
      "Test Accuracy with 75 trees = 0.390050559489053\n",
      "Test Accuracy with 80 trees = 0.3412762395702812\n",
      "Test Accuracy with 85 trees = 0.3558918326998852\n",
      "Test Accuracy with 90 trees = 0.3378272742495694\n",
      "Test Accuracy with 95 trees = 0.4187323568881246\n"
     ]
    }
   ],
   "source": [
    "for i in range(20,100,5):\n",
    "    mvp_regr = RandomForestRegressor(i, oob_score = True).fit(X_train_regr,y_train_regr)\n",
    "    print(f'Test Accuracy with {i} trees = {mvp_regr.score(X_test_regr,y_test_regr)}')"
   ]
  },
  {
   "cell_type": "markdown",
   "id": "40520ad2-3720-4aa2-99a3-94c4dbbd7d09",
   "metadata": {},
   "source": [
    "### Decision Tree"
   ]
  },
  {
   "cell_type": "code",
   "execution_count": 1,
   "id": "30ec9485-bc1d-4f7f-bbe1-00f36de6ca11",
   "metadata": {},
   "outputs": [
    {
     "ename": "NameError",
     "evalue": "name 'X' is not defined",
     "output_type": "error",
     "traceback": [
      "\u001b[1;31m---------------------------------------------------------------------------\u001b[0m",
      "\u001b[1;31mNameError\u001b[0m                                 Traceback (most recent call last)",
      "\u001b[1;32m~\\AppData\\Local\\Temp\\ipykernel_8220\\1775643888.py\u001b[0m in \u001b[0;36m<module>\u001b[1;34m\u001b[0m\n\u001b[1;32m----> 1\u001b[1;33m \u001b[0mprint\u001b[0m\u001b[1;33m(\u001b[0m\u001b[0mX\u001b[0m\u001b[1;33m)\u001b[0m\u001b[1;33m\u001b[0m\u001b[1;33m\u001b[0m\u001b[0m\n\u001b[0m",
      "\u001b[1;31mNameError\u001b[0m: name 'X' is not defined"
     ]
    }
   ],
   "source": []
  },
  {
   "cell_type": "code",
   "execution_count": null,
   "id": "f6a7dd5e-f9b8-4fc6-9931-1a46ef33c7b5",
   "metadata": {},
   "outputs": [],
   "source": []
  },
  {
   "cell_type": "code",
   "execution_count": null,
   "id": "8429d4d5-fc68-49a2-9067-201fbebf57e1",
   "metadata": {},
   "outputs": [],
   "source": []
  },
  {
   "cell_type": "markdown",
   "id": "4c19b966-79d9-49a4-b295-46ee4e35cdf1",
   "metadata": {},
   "source": [
    "## Evaluate Models"
   ]
  },
  {
   "cell_type": "code",
   "execution_count": null,
   "id": "30235eca-3a9b-45d5-b6e3-bc9a9af29218",
   "metadata": {},
   "outputs": [],
   "source": []
  }
 ],
 "metadata": {
  "kernelspec": {
   "display_name": "Python 3 (ipykernel)",
   "language": "python",
   "name": "python3"
  },
  "language_info": {
   "codemirror_mode": {
    "name": "ipython",
    "version": 3
   },
   "file_extension": ".py",
   "mimetype": "text/x-python",
   "name": "python",
   "nbconvert_exporter": "python",
   "pygments_lexer": "ipython3",
   "version": "3.9.13"
  }
 },
 "nbformat": 4,
 "nbformat_minor": 5
}
